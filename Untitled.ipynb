{
 "cells": [
  {
   "cell_type": "markdown",
   "metadata": {},
   "source": [
    "# Functions\n",
    "\n",
    "@author: Mark Hupkens"
   ]
  },
  {
   "cell_type": "code",
   "execution_count": 1,
   "metadata": {},
   "outputs": [],
   "source": [
    "'''Parse ev charger data'''\n",
    "def parse_df(df):\n",
    "    if df.columns.isin(['id', 'point', 'power', 'publicaccess', 'status']).all() or df.columns.isin(['cluster', 'id', 'point', 'power', 'publicaccess', 'status']).all():\n",
    "\n",
    "        # Extract Dict data\n",
    "        df = df.merge(df['point'].apply(pd.Series), left_index=True, right_index=True) #lng lat\n",
    "        df = df.merge(df.status.apply(pd.Series), left_index=True, right_index=True) #availability charging\n",
    "        \n",
    "        #drop columns\n",
    "        df = df[['power','publicaccess','lat','lng','available','charging']]\n",
    "        return df\n",
    "    else:\n",
    "        print('Scraped data not in correct format')\n"
   ]
  }
 ],
 "metadata": {
  "kernelspec": {
   "display_name": "Python 3",
   "language": "python",
   "name": "python3"
  },
  "language_info": {
   "codemirror_mode": {
    "name": "ipython",
    "version": 3
   },
   "file_extension": ".py",
   "mimetype": "text/x-python",
   "name": "python",
   "nbconvert_exporter": "python",
   "pygments_lexer": "ipython3",
   "version": "3.7.3"
  }
 },
 "nbformat": 4,
 "nbformat_minor": 2
}
