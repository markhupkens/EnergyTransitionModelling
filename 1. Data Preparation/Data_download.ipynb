{
 "cells": [
  {
   "cell_type": "markdown",
   "metadata": {},
   "source": [
    "# Data download"
   ]
  },
  {
   "cell_type": "markdown",
   "metadata": {},
   "source": [
    "This notebook downloads and prepares data for the EnergyTransition model available at the [EnergyTransitionModelling](https://github.com/markhupkens/EnergyTransitionModelling ) repository. \n",
    "\n",
    "For the __Dutch application__, the model relies on the following opendata:\n",
    "1. Building data from BAG (Basisregistratie Adressen en Gebouwen), provided by [nlextract](nlextract.nl/downloads)\n",
    "2. CBS data to index BAG data in neighbourhoods, district and municipalities\n",
    "3. Consumptiondata from [Klimaatmonitor](links['klim_buurt'])\n",
    "\n",
    "@Author: Mark Hupkens"
   ]
  },
  {
   "cell_type": "code",
   "execution_count": 1,
   "metadata": {
    "collapsed": true
   },
   "outputs": [],
   "source": [
    "'''Import packages'''\n",
    "import pandas as pd\n",
    "import numpy as np\n",
    "import os"
   ]
  },
  {
   "cell_type": "code",
   "execution_count": 30,
   "metadata": {},
   "outputs": [
    {
     "data": {
      "text/plain": [
       "'https://klimaatmonitor.databank.nl/Jive?workspace_guid=4d58763b-603f-4992-bbb7-6988dc798d76'"
      ]
     },
     "execution_count": 30,
     "metadata": {},
     "output_type": "execute_result"
    }
   ],
   "source": [
    "links['klim_buurt']"
   ]
  },
  {
   "cell_type": "markdown",
   "metadata": {},
   "source": [
    "### Data Links"
   ]
  },
  {
   "cell_type": "code",
   "execution_count": 27,
   "metadata": {},
   "outputs": [],
   "source": [
    "links = {}\n",
    "\n",
    "links['bag'] = \"https://data.nlextract.nl/bag/csv/bag-adressen-full-laatst.csv.zip\"\n",
    "links['cbs'] = \"https://www.cbs.nl/-/media/_excel/2018/36/2018-cbs-pc6huisnr20180801_buurt%20-vs2.zip\"\n",
    "links['klim_buurt'] = \"https://klimaatmonitor.databank.nl/Jive?workspace_guid=4d58763b-603f-4992-bbb7-6988dc798d76\"\n",
    "links['klim_wijk'] = \"https://klimaatmonitor.databank.nl/Jive?workspace_guid=b7ef111a-fc1c-4908-811c-eb0b645958c2\"\n",
    "links['klim_gemeente'] = \"https://klimaatmonitor.databank.nl/Jive?workspace_guid=61774c66-e7e3-4809-9d63-f1862f479b8f\""
   ]
  },
  {
   "cell_type": "code",
   "execution_count": 28,
   "metadata": {
    "scrolled": true
   },
   "outputs": [
    {
     "name": "stdout",
     "output_type": "stream",
     "text": [
      "https://data.nlextract.nl/bag/csv/bag-adressen-full-laatst.csv.zip\n",
      "https://www.cbs.nl/-/media/_excel/2018/36/2018-cbs-pc6huisnr20180801_buurt%20-vs2.zip\n",
      "https://klimaatmonitor.databank.nl/Jive?workspace_guid=4d58763b-603f-4992-bbb7-6988dc798d76\n",
      "https://klimaatmonitor.databank.nl/Jive?workspace_guid=b7ef111a-fc1c-4908-811c-eb0b645958c2\n",
      "https://klimaatmonitor.databank.nl/Jive?workspace_guid=61774c66-e7e3-4809-9d63-f1862f479b8f\n"
     ]
    }
   ],
   "source": [
    "for key, value in links.items():\n",
    "    print(value)"
   ]
  },
  {
   "cell_type": "code",
   "execution_count": 25,
   "metadata": {},
   "outputs": [],
   "source": [
    "'''Download data'''\n",
    "\n",
    "for key, value in links.items():\n",
    "    os.system(\"start \\\"\\\" \" + value)"
   ]
  },
  {
   "cell_type": "code",
   "execution_count": null,
   "metadata": {
    "collapsed": true
   },
   "outputs": [],
   "source": [
    "'''Move date to model directory'''\n",
    "\n",
    "os.rename(\"path/to/current/file.foo\", \"path/to/new/destination/for/file.foo\")"
   ]
  }
 ],
 "metadata": {
  "kernelspec": {
   "display_name": "Python 3",
   "language": "python",
   "name": "python3"
  },
  "language_info": {
   "codemirror_mode": {
    "name": "ipython",
    "version": 3
   },
   "file_extension": ".py",
   "mimetype": "text/x-python",
   "name": "python",
   "nbconvert_exporter": "python",
   "pygments_lexer": "ipython3",
   "version": "3.7.3"
  }
 },
 "nbformat": 4,
 "nbformat_minor": 2
}
