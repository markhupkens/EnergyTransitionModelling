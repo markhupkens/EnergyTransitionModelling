{
 "cells": [
  {
   "cell_type": "code",
   "execution_count": 1,
   "metadata": {},
   "outputs": [],
   "source": [
    "import pandas as pd\n",
    "import numpy as np\n",
    "import seaborn as sns\n",
    "# from data_prep.py import "
   ]
  },
  {
   "cell_type": "markdown",
   "metadata": {},
   "source": [
    "# Modelsetup (datamerge)\n",
    "\n",
    "\n",
    "This notebook uses the following datasets to merge ep-online(BAG) data with klimaatmonitordata:\n",
    "1. BAG data per house, including buildingtypes, retrieved from: [eponline](https://ep-online.nl/ep-online/) \n",
    "2. Energy data per buurt, retrieved from: [klimaatmonitor](https://klimaatmonitor.databank.nl/Jive)\n",
    "3. [Solar PV data per neighbourhood (CBS)](https://opendata.cbs.nl/statline/portal.html?_la=nl&_catalog=CBS&tableId=84517NED&_theme=287)\n",
    "4. on chargingpoints (private)\n",
    "5. [FEV and PHEV data on low scale](https://klimaatmonitor.databank.nl/Jive?workspace_guid=b341f460-f6d7-4c47-b74e-808f0e32e096)\n",
    "6. [CBS data on vehicles per zipcode](https://opendata.cbs.nl/statline/portal.html?_la=nl&_catalog=CBS&tableId=37209hvv&_theme=439)\n",
    "7. [Green gas and renewable heat per municipality](https://klimaatmonitor.databank.nl/Jive?workspace_guid=84d4a5ab-b92e-4c0d-a293-16215c6d899c)\n",
    "\n",
    "<br>\n",
    "@author: Mark Hupkens\n",
    "last edit: 13-05-2019\n",
    "\n",
    "All code available on [github repo](https://github.com/markhupkens/EnergyTransitionModelling)\n",
    "\n",
    "> __To do (21-05):__\n",
    "1. fix column naming issue on import in vensim: add sheet name to column variables.\n",
    "2. Check length of variables and their mapping --> buurten have more wijken as mapping than wijken have entities (see modelfix file)"
   ]
  },
  {
   "cell_type": "markdown",
   "metadata": {},
   "source": [
    "## Step 1: importing data"
   ]
  },
  {
   "cell_type": "code",
   "execution_count": 2,
   "metadata": {
    "scrolled": false
   },
   "outputs": [],
   "source": [
    "'''Import Data'''\n",
    "\n",
    "# BAG data\n",
    "df = pd.read_csv('C:/Users/markhupkens/Dropbox/EnTransitionNL/0. Data/masterdf.csv', error_bad_lines=False, sep =';') # handled data from https://www.rvo.nl/sites/default/files/2019/01/Voorlopige_labels_okt2018.zip\n",
    "\n",
    "# Energy Data\n",
    "df_energy_buurt = pd.read_excel(\"C:/Users/markhupkens/Dropbox/EnTransitionNL/0. Data/Klimaatmonitor (energieverbruik , stadsverwarming, pv - Buurten,wijken en gemeenten 2017).xls\",sheet_name='Buurt')\n",
    "df_energy_gemeente = pd.read_excel(\"C:/Users/markhupkens/Dropbox/EnTransitionNL/0. Data/Klimaatmonitor (energieverbruik , stadsverwarming, pv - Buurten,wijken en gemeenten 2017).xls\",sheet_name='Gemeente')\n",
    "df_energy_wijk = pd.read_excel(\"C:/Users/markhupkens/Dropbox/EnTransitionNL/0. Data/Klimaatmonitor (energieverbruik , stadsverwarming, pv - Buurten,wijken en gemeenten 2017).xls\",sheet_name='Wijk')\n",
    "df_inkomen_buurt = pd.read_csv(\"C:/Users/markhupkens/Dropbox/EnTransitionNL/0. Data/CBS_2017_Inkomen_Buurt.csv\",sep=';')\n",
    "\n",
    "# Replace string values with nan value 0.424\n",
    "df_energy_buurt.replace(to_replace='?',value=0.4242,inplace=True)\n",
    "df_energy_buurt.replace(to_replace='-',value=0.4242,inplace=True)\n",
    "\n",
    "df_energy_gemeente.replace(to_replace='?',value=0.4242,inplace=True)\n",
    "df_energy_gemeente.replace(to_replace='-',value=0.4242,inplace=True)\n",
    "\n",
    "df_energy_wijk.replace(to_replace='?',value=0.4242,inplace=True)\n",
    "df_energy_wijk.replace(to_replace='-',value=0.4242,inplace=True)\n",
    "\n",
    "# green gas and renewable heat\n",
    "df_heat = pd.read_excel(\"C:/Users/markhupkens/Dropbox/EnTransitionNL/0. Data/Klimaatmonitor. Green gas and heat- Gemeenten.xls\",sheet_name='Gemeenten')\n"
   ]
  },
  {
   "cell_type": "markdown",
   "metadata": {},
   "source": [
    "### 1. Solar PV data"
   ]
  },
  {
   "cell_type": "code",
   "execution_count": 3,
   "metadata": {},
   "outputs": [],
   "source": [
    "'''1. Solar PV per neighborhood'''\n",
    "\n",
    "# Solar PV data, url: https://www.cbs.nl/nl-nl/nieuws/2019/17/vermogen-zonnepanelen-meer-dan-de-helft-toegenomen\n",
    "df_solar = pd.read_csv(\"C:/Users/markhupkens/Dropbox/EnTransitionNL/0. Data/Zonnestroom__wijken_en_buurten__2017_16052019_130403.csv\", sep=';', error_bad_lines=False)\n",
    "\n",
    "# clean data\n",
    "df_solar['Regioaanduiding/Soort regio (omschrijving)'] = df_solar['Regioaanduiding/Soort regio (omschrijving)'].str.split(\" \").str[0]\n",
    "\n",
    "# Select levels\n",
    "df_solar_buurt = df_solar.loc[df_solar['Regioaanduiding/Soort regio (omschrijving)']=='Buurt']\n",
    "df_solar_wijk = df_solar.loc[df_solar['Regioaanduiding/Soort regio (omschrijving)']=='Wijk']\n",
    "df_solar_gem = df_solar.loc[df_solar['Regioaanduiding/Soort regio (omschrijving)']=='Gemeente']"
   ]
  },
  {
   "cell_type": "code",
   "execution_count": 4,
   "metadata": {},
   "outputs": [],
   "source": [
    "# To Do"
   ]
  },
  {
   "cell_type": "markdown",
   "metadata": {},
   "source": [
    "### 2. FEV and PHEV"
   ]
  },
  {
   "cell_type": "code",
   "execution_count": 5,
   "metadata": {},
   "outputs": [],
   "source": [
    "''' FEV and PHEV Data'''\n",
    "\n",
    "df_fev = pd.read_excel('C:/Users/markhupkens/Dropbox/EnTransitionNL/0. Data/Klimaatmonitor - Aantal geregistreerde  EV- PHEV2019 - Postcodes.xls',sheet_name='Auto s voertuigen 2019 Postcode')\n",
    "df_voertuig = pd.read_csv('C:/Users/markhupkens/Dropbox/EnTransitionNL/0. Data/Motorvoertuigen_cbs_postcode.csv',error_bad_lines=False, sep=';')\n",
    "df_pc = pd.read_csv('C:/Users/markhupkens/Dropbox/EnTransitionNL/0. Data/2017-cbs-pc6huisnr20170801_buurt/pc6hnr20170801_gwb.csv',sep=';')\n",
    "df_pc_buurt = pd.read_csv('C:/Users/markhupkens/Dropbox/EnTransitionNL/0. Data/2017-cbs-pc6huisnr20170801_buurt/buurtnaam2017.csv',sep=';',encoding = 'unicode_escape')\n",
    "df_pc_wijk = pd.read_csv('C:/Users/markhupkens/Dropbox/EnTransitionNL/0. Data/2017-cbs-pc6huisnr20170801_buurt/wijknaam2017.csv',sep=';',encoding = 'unicode_escape')\n",
    "df_pc_gemeente = pd.read_csv('C:/Users/markhupkens/Dropbox/EnTransitionNL/0. Data/2017-cbs-pc6huisnr20170801_buurt/gemeentenaam2017.csv',sep=';',encoding = 'unicode_escape')"
   ]
  },
  {
   "cell_type": "markdown",
   "metadata": {},
   "source": [
    "a. Zipcode coupling dataframe (CBS)"
   ]
  },
  {
   "cell_type": "code",
   "execution_count": 6,
   "metadata": {
    "scrolled": true
   },
   "outputs": [],
   "source": [
    "df_pc = df_pc.merge(df_pc_buurt, \n",
    "                    left_on='Buurt2017', \n",
    "                    right_on='BUURT2017').merge(df_pc_wijk, \n",
    "                                                left_on='Wijk2017', \n",
    "                                                right_on='WIJK2017').merge(df_pc_gemeente, \n",
    "                                                                           left_on='Gem2017', \n",
    "                                                                           right_on='GEM2017')\n",
    "\n",
    "df_pc['PC4'] = df_pc['PC6'].str[:4]\n",
    "df_pc.drop_duplicates(subset='PC4', keep='first', inplace=True)"
   ]
  },
  {
   "cell_type": "markdown",
   "metadata": {},
   "source": [
    "b. Vehicles dataframe (CBS + Klimaatmonitor (RDW)"
   ]
  },
  {
   "cell_type": "code",
   "execution_count": 7,
   "metadata": {
    "scrolled": true
   },
   "outputs": [],
   "source": [
    "# Create merge columns\n",
    "df_fev['Postcode'] = df_fev[\"Auto's/voertuigen 2019 - Postcodes\"].str.split(\" \").str[0]\n",
    "df_voertuig['Postcode'] = df_voertuig['RegioS'].str.split(\" \").str[0]\n",
    "df_fev = df_fev.merge(df_voertuig,left_on='Postcode', right_on='Postcode', how='inner')\n",
    "\n",
    "# Add buurt,wijk and gemeente names based on pc4\n",
    "df_veh = df_fev.merge(df_pc, left_on='Postcode', right_on='PC4', how='inner')"
   ]
  },
  {
   "cell_type": "markdown",
   "metadata": {},
   "source": [
    "c. group data"
   ]
  },
  {
   "cell_type": "code",
   "execution_count": 8,
   "metadata": {},
   "outputs": [],
   "source": [
    "'''Group data in wijken en gemeenten (pc4)'''\n",
    "\n",
    "# Gemeenten\n",
    "df_veh_gem = df_veh.groupby('GEMNAAM').agg({\"Aantal geregistreerde elektrische personenauto's (FEV)\":'sum',\n",
    "                                                                              \"Aantal geregistreerde plug-in hybride personenauto's (PHEV)\":'sum',\n",
    "                                                                              \"Aantal geregistreerde personenauto's op aardgas (CNG)\":'sum',\n",
    "                                                                              \"Aantal geregistreerde hybride personenauto's\":'sum',\n",
    "                                                                              \"Personenauto's op waterstof (H2)\":'sum',\n",
    "                                                                             'Personenauto_2':'sum'})\n",
    "df_veh_gem['Benzine_Diesel']=df_veh_gem['Personenauto_2']-(df_veh_gem[\"Aantal geregistreerde elektrische personenauto's (FEV)\"] + \n",
    "                                                           df_veh_gem[\"Aantal geregistreerde plug-in hybride personenauto's (PHEV)\"] + \n",
    "                                                           df_veh_gem[\"Aantal geregistreerde personenauto's op aardgas (CNG)\"] + \n",
    "                                                           df_veh_gem[\"Aantal geregistreerde hybride personenauto's\"] + \n",
    "                                                           df_veh_gem[\"Personenauto's op waterstof (H2)\"])\n",
    "# Wijken\n",
    "df_veh_wijk = df_veh.groupby('WIJKNAAM').agg({\"Aantal geregistreerde elektrische personenauto's (FEV)\":'sum',\n",
    "                                                                              \"Aantal geregistreerde plug-in hybride personenauto's (PHEV)\":'sum',\n",
    "                                                                              \"Aantal geregistreerde personenauto's op aardgas (CNG)\":'sum',\n",
    "                                                                              \"Aantal geregistreerde hybride personenauto's\":'sum',\n",
    "                                                                              \"Personenauto's op waterstof (H2)\":'sum',\n",
    "                                                                             'Personenauto_2':'sum'})\n",
    "df_veh_wijk['Benzine_Diesel']=df_veh_wijk['Personenauto_2']-(df_veh_wijk[\"Aantal geregistreerde elektrische personenauto's (FEV)\"] + \n",
    "                                                           df_veh_wijk[\"Aantal geregistreerde plug-in hybride personenauto's (PHEV)\"] + \n",
    "                                                           df_veh_wijk[\"Aantal geregistreerde personenauto's op aardgas (CNG)\"] + \n",
    "                                                           df_veh_wijk[\"Aantal geregistreerde hybride personenauto's\"] + \n",
    "                                                           df_veh_wijk[\"Personenauto's op waterstof (H2)\"])\n",
    "\n"
   ]
  },
  {
   "cell_type": "code",
   "execution_count": 9,
   "metadata": {},
   "outputs": [],
   "source": [
    "df_veh_wijk.drop('Personenauto_2', axis=1, inplace=True)\n",
    "df_veh_gem.drop('Personenauto_2', axis=1, inplace=True)"
   ]
  },
  {
   "cell_type": "code",
   "execution_count": 10,
   "metadata": {},
   "outputs": [
    {
     "data": {
      "text/html": [
       "<div>\n",
       "<style scoped>\n",
       "    .dataframe tbody tr th:only-of-type {\n",
       "        vertical-align: middle;\n",
       "    }\n",
       "\n",
       "    .dataframe tbody tr th {\n",
       "        vertical-align: top;\n",
       "    }\n",
       "\n",
       "    .dataframe thead th {\n",
       "        text-align: right;\n",
       "    }\n",
       "</style>\n",
       "<table border=\"1\" class=\"dataframe\">\n",
       "  <thead>\n",
       "    <tr style=\"text-align: right;\">\n",
       "      <th></th>\n",
       "      <th>Aantal geregistreerde elektrische personenauto's (FEV)</th>\n",
       "      <th>Aantal geregistreerde plug-in hybride personenauto's (PHEV)</th>\n",
       "      <th>Aantal geregistreerde personenauto's op aardgas (CNG)</th>\n",
       "      <th>Aantal geregistreerde hybride personenauto's</th>\n",
       "      <th>Personenauto's op waterstof (H2)</th>\n",
       "      <th>Benzine_Diesel</th>\n",
       "    </tr>\n",
       "    <tr>\n",
       "      <th>WIJKNAAM</th>\n",
       "      <th></th>\n",
       "      <th></th>\n",
       "      <th></th>\n",
       "      <th></th>\n",
       "      <th></th>\n",
       "      <th></th>\n",
       "    </tr>\n",
       "  </thead>\n",
       "  <tbody>\n",
       "    <tr>\n",
       "      <th>'s Gravenmoer</th>\n",
       "      <td>4.0</td>\n",
       "      <td>8.0</td>\n",
       "      <td>1.0</td>\n",
       "      <td>25.0</td>\n",
       "      <td>0.0</td>\n",
       "      <td>1364.0</td>\n",
       "    </tr>\n",
       "    <tr>\n",
       "      <th>'s-Gravenpolder</th>\n",
       "      <td>3.0</td>\n",
       "      <td>10.0</td>\n",
       "      <td>1.0</td>\n",
       "      <td>38.0</td>\n",
       "      <td>0.0</td>\n",
       "      <td>2502.0</td>\n",
       "    </tr>\n",
       "    <tr>\n",
       "      <th>'s-Heer Abtskerke</th>\n",
       "      <td>8.0</td>\n",
       "      <td>17.0</td>\n",
       "      <td>0.0</td>\n",
       "      <td>52.0</td>\n",
       "      <td>0.0</td>\n",
       "      <td>3080.0</td>\n",
       "    </tr>\n",
       "    <tr>\n",
       "      <th>Aalsmeerderbrug/ Oude Meer/ Rozenburg / Schiphol Rijk</th>\n",
       "      <td>89.0</td>\n",
       "      <td>36.0</td>\n",
       "      <td>46.0</td>\n",
       "      <td>20.0</td>\n",
       "      <td>0.0</td>\n",
       "      <td>867.0</td>\n",
       "    </tr>\n",
       "    <tr>\n",
       "      <th>Aarlanderveen</th>\n",
       "      <td>3.0</td>\n",
       "      <td>4.0</td>\n",
       "      <td>0.0</td>\n",
       "      <td>26.0</td>\n",
       "      <td>0.0</td>\n",
       "      <td>650.0</td>\n",
       "    </tr>\n",
       "  </tbody>\n",
       "</table>\n",
       "</div>"
      ],
      "text/plain": [
       "                                                    Aantal geregistreerde elektrische personenauto's (FEV)  \\\n",
       "WIJKNAAM                                                                                                     \n",
       "'s Gravenmoer                                                                                     4.0        \n",
       "'s-Gravenpolder                                                                                   3.0        \n",
       "'s-Heer Abtskerke                                                                                 8.0        \n",
       "Aalsmeerderbrug/ Oude Meer/ Rozenburg / Schipho...                                               89.0        \n",
       "Aarlanderveen                                                                                     3.0        \n",
       "\n",
       "                                                    Aantal geregistreerde plug-in hybride personenauto's (PHEV)  \\\n",
       "WIJKNAAM                                                                                                          \n",
       "'s Gravenmoer                                                                                     8.0             \n",
       "'s-Gravenpolder                                                                                  10.0             \n",
       "'s-Heer Abtskerke                                                                                17.0             \n",
       "Aalsmeerderbrug/ Oude Meer/ Rozenburg / Schipho...                                               36.0             \n",
       "Aarlanderveen                                                                                     4.0             \n",
       "\n",
       "                                                    Aantal geregistreerde personenauto's op aardgas (CNG)  \\\n",
       "WIJKNAAM                                                                                                    \n",
       "'s Gravenmoer                                                                                     1.0       \n",
       "'s-Gravenpolder                                                                                   1.0       \n",
       "'s-Heer Abtskerke                                                                                 0.0       \n",
       "Aalsmeerderbrug/ Oude Meer/ Rozenburg / Schipho...                                               46.0       \n",
       "Aarlanderveen                                                                                     0.0       \n",
       "\n",
       "                                                    Aantal geregistreerde hybride personenauto's  \\\n",
       "WIJKNAAM                                                                                           \n",
       "'s Gravenmoer                                                                               25.0   \n",
       "'s-Gravenpolder                                                                             38.0   \n",
       "'s-Heer Abtskerke                                                                           52.0   \n",
       "Aalsmeerderbrug/ Oude Meer/ Rozenburg / Schipho...                                          20.0   \n",
       "Aarlanderveen                                                                               26.0   \n",
       "\n",
       "                                                    Personenauto's op waterstof (H2)  \\\n",
       "WIJKNAAM                                                                               \n",
       "'s Gravenmoer                                                                    0.0   \n",
       "'s-Gravenpolder                                                                  0.0   \n",
       "'s-Heer Abtskerke                                                                0.0   \n",
       "Aalsmeerderbrug/ Oude Meer/ Rozenburg / Schipho...                               0.0   \n",
       "Aarlanderveen                                                                    0.0   \n",
       "\n",
       "                                                    Benzine_Diesel  \n",
       "WIJKNAAM                                                            \n",
       "'s Gravenmoer                                               1364.0  \n",
       "'s-Gravenpolder                                             2502.0  \n",
       "'s-Heer Abtskerke                                           3080.0  \n",
       "Aalsmeerderbrug/ Oude Meer/ Rozenburg / Schipho...           867.0  \n",
       "Aarlanderveen                                                650.0  "
      ]
     },
     "execution_count": 10,
     "metadata": {},
     "output_type": "execute_result"
    }
   ],
   "source": [
    "df_veh_wijk.head()"
   ]
  },
  {
   "cell_type": "markdown",
   "metadata": {},
   "source": [
    "## Building stock data on buurt-level\n",
    "\n",
    "Firstly, binary columns have to be created to allow for counting in a groupby dataframe. 13 new columns are added to show housing type (c1-c6) and label (A-G)."
   ]
  },
  {
   "cell_type": "code",
   "execution_count": 11,
   "metadata": {
    "scrolled": true
   },
   "outputs": [],
   "source": [
    "''' Create housing matrix'''\n",
    "\n",
    "# Add housing matrix to enable building type count at the end of the script\n",
    "df.loc[df['Housing Type']=='C1', 'Houses Detached BAG2018d'] = 1 \n",
    "df.loc[df['Housing Type']=='C2', 'Houses 2u1Roof BAG2018d'] = 1 \n",
    "df.loc[df['Housing Type']=='C3', 'Houses Corner BAG2018d'] = 1\n",
    "df.loc[df['Housing Type']=='C4', 'Houses Row BAG2018'] = 1\n",
    "df.loc[df['Housing Type']=='C5', 'Houses SingleFloorAppartments c5 BAG2018d'] = 1\n",
    "df.loc[df['Housing Type']=='C6', 'Houses MultiFloorAppartments c6 BAG2018d'] = 1\n",
    "\n",
    "# Add preliminary evaluation\n",
    "df.loc[df['Preliminary Evaluation']=='A', 'Label A BAG2018d'] = 1 \n",
    "df.loc[df['Preliminary Evaluation']=='B', 'Label B BAG2018d'] = 1 \n",
    "df.loc[df['Preliminary Evaluation']=='C', 'Label C BAG2018d'] = 1\n",
    "df.loc[df['Preliminary Evaluation']=='D', 'Label D BAG2018d'] = 1\n",
    "df.loc[df['Preliminary Evaluation']=='E', 'Label E BAG2018d'] = 1\n",
    "df.loc[df['Preliminary Evaluation']=='F', 'Label F BAG2018d'] = 1\n",
    "df.loc[df['Preliminary Evaluation']=='G', 'Label G BAG2018d'] = 1\n",
    "\n",
    "# Add Numerical labels (A=1, G=7)\n",
    "df.loc[df['Preliminary Evaluation']=='A', 'Average Label BAG2018d'] = 1\n",
    "df.loc[df['Preliminary Evaluation']=='B', 'Average Label BAG2018d'] = 2\n",
    "df.loc[df['Preliminary Evaluation']=='C', 'Average Label BAG2018d'] = 3\n",
    "df.loc[df['Preliminary Evaluation']=='D', 'Average Label BAG2018d'] = 4\n",
    "df.loc[df['Preliminary Evaluation']=='E', 'Average Label BAG2018d'] = 5\n",
    "df.loc[df['Preliminary Evaluation']=='F', 'Average Label BAG2018d'] = 6\n",
    "df.loc[df['Preliminary Evaluation']=='G', 'Average Label BAG2018d'] = 7\n",
    "\n",
    "\n",
    "# convert to string\n",
    "df['Neighbourhood Code'] = df['Neighbourhood Code'].astype(str).str.split(\".\").str[0] #.map(str).str.split(\".\").str[0]\n",
    "df['District Code'] = df['District Code'].astype(str).str.split(\".\").str[0] # or .map(str).str.split(\".\").str[0]"
   ]
  },
  {
   "cell_type": "markdown",
   "metadata": {},
   "source": [
    "#### 1. Group Data"
   ]
  },
  {
   "cell_type": "code",
   "execution_count": 12,
   "metadata": {
    "scrolled": false
   },
   "outputs": [],
   "source": [
    "'''Group adressdata in neighborhoods within municipalities'''\n",
    "\n",
    "# group data\n",
    "df_bag = df.groupby(['Municipality Name',\n",
    "                     'Neighbourhood Name',\n",
    "                     'Neighbourhood Code']).agg({'House No':'count',\n",
    "                                              'Houses Detached BAG2018d':'count',\n",
    "                                               'Houses 2u1Roof BAG2018d':'count',\n",
    "                                              'Houses Corner BAG2018d':'count',\n",
    "                                              'Houses Row BAG2018':'count',\n",
    "                                              'Houses SingleFloorAppartments c5 BAG2018d':'count',\n",
    "                                              'Houses MultiFloorAppartments c6 BAG2018d':'count',\n",
    "                                              'Construction Year':'mean',\n",
    "                                               'Label A BAG2018d':'count',\n",
    "                                               'Label B BAG2018d':'count',\n",
    "                                                'Label C BAG2018d':'count',\n",
    "                                                'Label D BAG2018d':'count',\n",
    "                                                'Label E BAG2018d':'count',\n",
    "                                                'Label F BAG2018d':'count',\n",
    "                                                'Label G BAG2018d':'count',\n",
    "                                                'Average Label BAG2018d':'mean'})\n",
    "\n",
    "# Rename column and duplicate index for merge later on\n",
    "df_bag.rename(columns={'House No':'Houses All BAG2018d'})\n",
    "df_bag['Neighbourhood Name_2'] = df_bag.index.get_level_values('Neighbourhood Name')\n",
    "df_bag['Municipality Name_2'] = df_bag.index.get_level_values('Municipality Name')\n",
    "df_bag['Neighbourhood Code_2'] = df_bag.index.get_level_values('Neighbourhood Code') # string values for easy merge"
   ]
  },
  {
   "cell_type": "code",
   "execution_count": 13,
   "metadata": {},
   "outputs": [
    {
     "data": {
      "text/plain": [
       "count    12987.000000\n",
       "mean         4.093182\n",
       "std          1.309312\n",
       "min          1.000000\n",
       "25%          3.149821\n",
       "50%          4.166434\n",
       "75%          5.048930\n",
       "max          7.000000\n",
       "Name: Average Label BAG2018d, dtype: float64"
      ]
     },
     "execution_count": 13,
     "metadata": {},
     "output_type": "execute_result"
    }
   ],
   "source": [
    "df_bag['Average Label BAG2018d'].describe()"
   ]
  },
  {
   "cell_type": "code",
   "execution_count": 14,
   "metadata": {},
   "outputs": [],
   "source": [
    "'''Group adressdata in districts within municipalities'''\n",
    "\n",
    "# group data\n",
    "df_bag_wijk = df.groupby(['Municipality Name',\n",
    "                          'District Name',\n",
    "                          'District Code']).agg({'House No':'count',\n",
    "                                              'Houses Detached BAG2018d':'count',\n",
    "                                               'Houses 2u1Roof BAG2018d':'count',\n",
    "                                              'Houses Corner BAG2018d':'count',\n",
    "                                              'Houses Row BAG2018':'count',\n",
    "                                              'Houses SingleFloorAppartments c5 BAG2018d':'count',\n",
    "                                              'Houses MultiFloorAppartments c6 BAG2018d':'count',\n",
    "                                              'Construction Year':'mean',\n",
    "                                               'Label A BAG2018d':'count',\n",
    "                                               'Label B BAG2018d':'count',\n",
    "                                                'Label C BAG2018d':'count',\n",
    "                                                'Label D BAG2018d':'count',\n",
    "                                                'Label E BAG2018d':'count',\n",
    "                                                'Label F BAG2018d':'count',\n",
    "                                                'Label G BAG2018d':'count'})\n",
    "\n",
    "# Rename column and duplicate index for merge later on\n",
    "df_bag_wijk.rename(columns={'House No':'Houses All BAG2018d'})\n",
    "df_bag_wijk['District Name_2'] = df_bag_wijk.index.get_level_values('District Name')\n",
    "df_bag_wijk['Municipality Name_2'] = df_bag_wijk.index.get_level_values('Municipality Name')\n",
    "df_bag_wijk['District Code_2'] = df_bag_wijk.index.get_level_values('District Code') # string values for easy merge"
   ]
  },
  {
   "cell_type": "code",
   "execution_count": 15,
   "metadata": {},
   "outputs": [],
   "source": [
    "'''Group adressdata in districts within municipalities'''\n",
    "\n",
    "# group data\n",
    "df_bag_gem = df.groupby(['Municipality Name']).agg({'House No':'count',\n",
    "                                              'Houses Detached BAG2018d':'count',\n",
    "                                               'Houses 2u1Roof BAG2018d':'count',\n",
    "                                              'Houses Corner BAG2018d':'count',\n",
    "                                              'Houses Row BAG2018':'count',\n",
    "                                              'Houses SingleFloorAppartments c5 BAG2018d':'count',\n",
    "                                              'Houses MultiFloorAppartments c6 BAG2018d':'count',\n",
    "                                              'Construction Year':'mean',\n",
    "                                               'Label A BAG2018d':'count',\n",
    "                                               'Label B BAG2018d':'count',\n",
    "                                                'Label C BAG2018d':'count',\n",
    "                                                'Label D BAG2018d':'count',\n",
    "                                                'Label E BAG2018d':'count',\n",
    "                                                'Label F BAG2018d':'count',\n",
    "                                                'Label G BAG2018d':'count'})\n",
    "\n",
    "# Rename column and duplicate index for merge later on\n",
    "df_bag_gem.rename(columns={'House No':'Houses All BAG2018d'})\n",
    "df_bag_gem['Municipality Name_2'] = df_bag_gem.index.get_level_values('Municipality Name')"
   ]
  },
  {
   "cell_type": "markdown",
   "metadata": {},
   "source": [
    "## Step 2 Merge All Data\n",
    "- __df_bag[buurt, wijk, gemeente]__: data for each building on housingtype, provisional label and building year\n",
    "- __df_energy [buurt, wijk, gemeente]__: average energy consumption\n",
    "- __df_solar[buurt, wijk, gemeente]__: # installations and KW\n",
    "- __df_veh[wijk, gemeente]__: EV's, PHEV's and Diesel/petrol"
   ]
  },
  {
   "cell_type": "markdown",
   "metadata": {},
   "source": [
    "### Buurten"
   ]
  },
  {
   "cell_type": "code",
   "execution_count": 16,
   "metadata": {},
   "outputs": [
    {
     "data": {
      "text/html": [
       "<div>\n",
       "<style scoped>\n",
       "    .dataframe tbody tr th:only-of-type {\n",
       "        vertical-align: middle;\n",
       "    }\n",
       "\n",
       "    .dataframe tbody tr th {\n",
       "        vertical-align: top;\n",
       "    }\n",
       "\n",
       "    .dataframe thead th {\n",
       "        text-align: right;\n",
       "    }\n",
       "</style>\n",
       "<table border=\"1\" class=\"dataframe\">\n",
       "  <thead>\n",
       "    <tr style=\"text-align: right;\">\n",
       "      <th></th>\n",
       "      <th>ID</th>\n",
       "      <th>WijkenEnBuurten</th>\n",
       "      <th>Gemeentenaam_1</th>\n",
       "      <th>Codering_3</th>\n",
       "      <th>GemiddeldInkomenPerInkomensontvanger_65</th>\n",
       "      <th>GemiddeldInkomenPerInwoner_66</th>\n",
       "    </tr>\n",
       "  </thead>\n",
       "  <tbody>\n",
       "    <tr>\n",
       "      <th>0</th>\n",
       "      <td>0</td>\n",
       "      <td>NL00</td>\n",
       "      <td>Nederland</td>\n",
       "      <td>NL00</td>\n",
       "      <td>32.0</td>\n",
       "      <td>25.6</td>\n",
       "    </tr>\n",
       "    <tr>\n",
       "      <th>1</th>\n",
       "      <td>1</td>\n",
       "      <td>GM1680</td>\n",
       "      <td>Aa en Hunze</td>\n",
       "      <td>GM1680</td>\n",
       "      <td>31.6</td>\n",
       "      <td>25.9</td>\n",
       "    </tr>\n",
       "    <tr>\n",
       "      <th>2</th>\n",
       "      <td>2</td>\n",
       "      <td>WK168000</td>\n",
       "      <td>Aa en Hunze</td>\n",
       "      <td>WK168000</td>\n",
       "      <td>34.0</td>\n",
       "      <td>27.5</td>\n",
       "    </tr>\n",
       "    <tr>\n",
       "      <th>3</th>\n",
       "      <td>3</td>\n",
       "      <td>BU16800000</td>\n",
       "      <td>Aa en Hunze</td>\n",
       "      <td>BU16800000</td>\n",
       "      <td>33.3</td>\n",
       "      <td>26.8</td>\n",
       "    </tr>\n",
       "    <tr>\n",
       "      <th>4</th>\n",
       "      <td>4</td>\n",
       "      <td>BU16800009</td>\n",
       "      <td>Aa en Hunze</td>\n",
       "      <td>BU16800009</td>\n",
       "      <td>.</td>\n",
       "      <td>.</td>\n",
       "    </tr>\n",
       "  </tbody>\n",
       "</table>\n",
       "</div>"
      ],
      "text/plain": [
       "   ID WijkenEnBuurten                            Gemeentenaam_1  Codering_3  \\\n",
       "0   0      NL00        Nederland                                 NL00         \n",
       "1   1      GM1680      Aa en Hunze                               GM1680       \n",
       "2   2      WK168000    Aa en Hunze                               WK168000     \n",
       "3   3      BU16800000  Aa en Hunze                               BU16800000   \n",
       "4   4      BU16800009  Aa en Hunze                               BU16800009   \n",
       "\n",
       "  GemiddeldInkomenPerInkomensontvanger_65 GemiddeldInkomenPerInwoner_66  \n",
       "0                                    32.0                          25.6  \n",
       "1                                    31.6                          25.9  \n",
       "2                                    34.0                          27.5  \n",
       "3                                    33.3                          26.8  \n",
       "4                                       .                             .  "
      ]
     },
     "execution_count": 16,
     "metadata": {},
     "output_type": "execute_result"
    }
   ],
   "source": [
    "df_inkomen_buurt.head()"
   ]
  },
  {
   "cell_type": "code",
   "execution_count": 17,
   "metadata": {
    "scrolled": false
   },
   "outputs": [],
   "source": [
    "'''Buurt: merge grouped bag data with klimaatmonitordata on buurt'''\n",
    "\n",
    "df_merged_buurt = df_bag.merge(df_energy_buurt,\n",
    "                               left_on='Neighbourhood Name_2', \n",
    "                               right_on='Buurt',how='left').merge(df_solar_buurt, \n",
    "                                                                   left_on='Neighbourhood Name_2',\n",
    "                                                                   right_on=df_solar_buurt['Wijken en buurten'],\n",
    "                                                                  how='left')\n",
    "\n",
    "df_merged_buurt = df_merged_buurt.groupby(['Municipality Name_2',\n",
    "                                           'Neighbourhood Name_2',\n",
    "                                           'Neighbourhood Code_2']).mean() # group by original index"
   ]
  },
  {
   "cell_type": "markdown",
   "metadata": {},
   "source": [
    "### Wijken"
   ]
  },
  {
   "cell_type": "code",
   "execution_count": 18,
   "metadata": {},
   "outputs": [
    {
     "data": {
      "text/plain": [
       "Index([''s Gravenmoer', ''s-Gravenpolder', ''s-Heer Abtskerke',\n",
       "       'Aalsmeerderbrug/ Oude Meer/ Rozenburg / Schiphol Rijk',\n",
       "       'Aarlanderveen', 'Abbenes / Buitenkaag', 'Abcoude', 'Achthuizen',\n",
       "       'Aetsveldsepolder', 'Afferden',\n",
       "       ...\n",
       "       'Zuid', 'Zuidas', 'Zuidland', 'Zuidoost', 'Zuidwest', 'Zuigerplaspark',\n",
       "       'Zwaanshoek', 'Zwammerdam', 'Zwanenburg', 'de Hoef'],\n",
       "      dtype='object', name='WIJKNAAM', length=1903)"
      ]
     },
     "execution_count": 18,
     "metadata": {},
     "output_type": "execute_result"
    }
   ],
   "source": [
    "df_veh_wijk.index"
   ]
  },
  {
   "cell_type": "code",
   "execution_count": 19,
   "metadata": {
    "scrolled": true
   },
   "outputs": [],
   "source": [
    "'''Wijk merge grouped bag data with klimaatmonitordata on wijk'''\n",
    "\n",
    "df_merged_wijk = df_bag_wijk.merge(df_energy_wijk,\n",
    "                                   left_on='District Name', \n",
    "                                   right_on='Wijk',\n",
    "                                   how='left').merge(df_veh_wijk,\n",
    "                                                    left_on='District Name_2', \n",
    "                                                    right_index=True,\n",
    "                                                    how='left').merge(df_solar_wijk, \n",
    "                                                                       left_on='District Name_2',\n",
    "                                                                       right_on='Wijken en buurten',\n",
    "                                                                       how='left') \n",
    "\n",
    "df_merged_wijk = df_merged_wijk.groupby(['Municipality Name_2',\n",
    "                                         'District Name_2',\n",
    "                                         'District Code_2']).mean() # group by original index"
   ]
  },
  {
   "cell_type": "markdown",
   "metadata": {},
   "source": [
    "### Gemeenten"
   ]
  },
  {
   "cell_type": "code",
   "execution_count": 20,
   "metadata": {
    "scrolled": false
   },
   "outputs": [],
   "source": [
    "'''Gemeente merge grouped bag data with klimaatmonitordata on Gemeente'''\n",
    "\n",
    "df_merged_gemeente = df_bag_gem.merge(df_energy_gemeente,\n",
    "                                  left_on='Municipality Name', \n",
    "                                  right_on='Gemeente',\n",
    "                                  how='left').merge(df_veh_gem,\n",
    "                                                    left_on='Municipality Name_2', \n",
    "                                                    right_index=True,\n",
    "                                                    how='left').merge(df_heat, \n",
    "                                                                      left_on='Municipality Name_2', \n",
    "                                                                      right_on=\"Thema's  - Gemeenten\",\n",
    "                                                                     how='left')\n",
    "\n",
    "df_merged_gemeente = df_merged_gemeente.merge(df_solar_gem, \n",
    "                                              left_on='Municipality Name_2', # .astype(str),\n",
    "                                              right_on='Wijken en buurten', #.str[2:].str.strip(\" \").str.lstrip(\"0\"),\n",
    "                                              how='left') \n",
    "\n",
    "df_merged_gemeente = df_merged_gemeente.groupby(['Municipality Name_2']).mean() # group by original index"
   ]
  },
  {
   "cell_type": "markdown",
   "metadata": {},
   "source": [
    "#### Clean merged dataset"
   ]
  },
  {
   "cell_type": "code",
   "execution_count": 21,
   "metadata": {},
   "outputs": [],
   "source": [
    "# Drop index columns (used for merging)\n",
    "l_drop= ['Huisnummer', 'Buurt2017', 'Wijk2017', 'Gem2017', 'BUURT2017',\n",
    "       'WIJK2017', 'GEM2017']\n",
    "\n",
    "# df_merged_buurt.drop(l_drop,axis=1,inplace=True)\n",
    "# df_merged_gemeente.drop(l_drop,axis=1,inplace=True)\n",
    "# df_merged_wijk.drop(l_drop,axis=1,inplace=True)"
   ]
  },
  {
   "cell_type": "code",
   "execution_count": 22,
   "metadata": {},
   "outputs": [],
   "source": [
    "# Remove special characters from column names\n",
    "df_merged_gemeente.columns = df_merged_gemeente.columns.str.replace(\"[\",\"\").str.replace(\"]\",\"\")\n",
    "df_merged_buurt.columns = df_merged_buurt.columns.str.replace(\"[\",\"\").str.replace(\"]\",\"\")\n",
    "df_merged_wijk.columns = df_merged_wijk.columns.str.replace(\"[\",\"\").str.replace(\"]\",\"\")"
   ]
  },
  {
   "cell_type": "markdown",
   "metadata": {},
   "source": [
    "## Step 3. Create new Model-setup\n",
    "Import modelsetup file and merge new data on geospatial index (buurt, wijk, gemeente)"
   ]
  },
  {
   "cell_type": "code",
   "execution_count": 23,
   "metadata": {},
   "outputs": [],
   "source": [
    "# Import model setup files\n",
    "\n",
    "df_mod_gemeente = pd.read_excel(\"C:/users/markhupkens/Dropbox/EnTransitionNL/0. Data/ModelSetUpEnergieNL02 (1).xlsx\",sheet_name='gemeente')\n",
    "df_mod_buurt = pd.read_excel(\"C:/users/markhupkens/Dropbox/EnTransitionNL/0. Data/ModelSetUpEnergieNL02 (1).xlsx\",sheet_name='buurt')\n",
    "df_mod_wijk = pd.read_excel(\"C:/users/markhupkens/Dropbox/EnTransitionNL/0. Data/ModelSetUpEnergieNL02 (1).xlsx\",sheet_name='wijk') # wijkdata horrible from klimaatmonitor\n",
    "df_mod_mod = pd.read_excel(\"C:/users/markhupkens/Dropbox/EnTransitionNL/0. Data/ModelSetUpEnergieNL02 (1).xlsx\",sheet_name='ModelSpecification')"
   ]
  },
  {
   "cell_type": "code",
   "execution_count": 24,
   "metadata": {},
   "outputs": [],
   "source": [
    "# split entity string to match building data on municipality name\n",
    "df_mod_gemeente['Municipality Name'] = df_mod_gemeente[\"Entities\"].str.split(\" G\").str[0] \n",
    "df_mod_wijk['Wijk Code'] = df_mod_wijk[\"Entities\"].str.split(\" W\").str[-1].str.strip(\"K\").str.strip(\" \").str.lstrip(\"0\") # Wijk on wijkcode, ditching leading 0's\n",
    "df_mod_buurt['Buurt Code'] = df_mod_buurt[\"Entities\"].str.split(\" B\").str[-1].str.strip(\"U\").str.strip(\" \").str.lstrip(\"0\") # Buurt on buurt code, ditching leading 0's"
   ]
  },
  {
   "cell_type": "code",
   "execution_count": 25,
   "metadata": {},
   "outputs": [],
   "source": [
    "# fillna with 0.4242\n",
    "\n",
    "df_merged_gemeente.fillna(0.4242,inplace=True)\n",
    "df_merged_wijk.fillna(0.4242,inplace=True)\n",
    "df_merged_buurt.fillna(0.4242,inplace=True)"
   ]
  },
  {
   "cell_type": "code",
   "execution_count": 26,
   "metadata": {},
   "outputs": [],
   "source": [
    "'''Merge prepared data with modelsetup data'''\n",
    "\n",
    "# Gemeenten\n",
    "df_mod_gemeente = df_mod_gemeente.merge(df_merged_gemeente, left_on='Municipality Name', right_on= df_merged_gemeente.index,how='inner')\n",
    "df_mod_gemeente = df_mod_gemeente.drop(['Municipality Name'], axis=1)\n",
    "\n",
    "# Buurten\n",
    "df_mod_buurt = df_mod_buurt.merge(df_merged_buurt, \n",
    "                                  left_on='Buurt Code', \n",
    "                                  right_on= df_merged_buurt.index.get_level_values('Neighbourhood Code_2'),\n",
    "                                  how='inner')\n",
    "                                                     # df_mod_buurt = df_mod_buurt.drop(['Buurt Name'], axis=1)\n",
    "\n",
    "# Wijken\n",
    "df_mod_wijk = df_mod_wijk.merge(df_merged_wijk, left_on='Wijk Code', right_on=df_merged_wijk.index.get_level_values('District Code_2'),how='inner')\n",
    "# df_mod_wijk = df_mod_wijk.drop(['District Name_2'], axis=1)"
   ]
  },
  {
   "cell_type": "markdown",
   "metadata": {},
   "source": [
    "### Add classes to neighbourhoods \n",
    "- based on building value, assign value classes. divide in quantiles and assign integer\n",
    "- based on % district heat, assign quantitles of district heat availability"
   ]
  },
  {
   "cell_type": "code",
   "execution_count": 27,
   "metadata": {},
   "outputs": [],
   "source": [
    "'''Add quantile groups of average labels''' # LOW QUANTILE = GOOD LABEL (A=1)\n",
    "\n",
    "df_mod_buurt.loc[df_mod_buurt['Average Label BAG2018d']<=df_mod_buurt['Average Label BAG2018d'].quantile(q=0.25), 'label group'] = 1 \n",
    "\n",
    "df_mod_buurt.loc[(df_mod_buurt['Average Label BAG2018d']>=df_mod_buurt['Average Label BAG2018d'].quantile(q=0.25)) &\n",
    "                 (df_mod_buurt['Average Label BAG2018d']<=df_mod_buurt['Average Label BAG2018d'].quantile(q=0.50)), 'label group'] = 2 \n",
    "\n",
    "df_mod_buurt.loc[(df_mod_buurt['Average Label BAG2018d']>=df_mod_buurt['Average Label BAG2018d'].quantile(q=0.50)) &\n",
    "                 (df_mod_buurt['Average Label BAG2018d']<=df_mod_buurt['Average Label BAG2018d'].quantile(q=0.75)), 'label group'] = 3 \n",
    "\n",
    "df_mod_buurt.loc[(df_mod_buurt['Average Label BAG2018d']>=df_mod_buurt['Average Label BAG2018d'].quantile(q=0.75)) &\n",
    "                 (df_mod_buurt['Average Label BAG2018d']<=df_mod_buurt['Average Label BAG2018d'].quantile(q=1.00)), 'label group'] = 4 "
   ]
  },
  {
   "cell_type": "code",
   "execution_count": 28,
   "metadata": {},
   "outputs": [
    {
     "data": {
      "text/plain": [
       "1.0    3247\n",
       "4.0    3247\n",
       "3.0    3247\n",
       "2.0    3247\n",
       "Name: label group, dtype: int64"
      ]
     },
     "execution_count": 28,
     "metadata": {},
     "output_type": "execute_result"
    }
   ],
   "source": [
    "df_mod_buurt['label group'].value_counts()"
   ]
  },
  {
   "cell_type": "code",
   "execution_count": 29,
   "metadata": {},
   "outputs": [],
   "source": [
    "'''Add value classes'''\n",
    "# distribute neighourbhoods in 4 classes based on building value from 1 (lowest quantile) to 4 (highest quantile)\n",
    "\n",
    "df_mod_buurt.loc[df_mod_buurt['woningwaarde keuro buurt']<=df_mod_buurt['woningwaarde keuro buurt'].quantile(q=0.25), 'value group'] = 1 \n",
    "\n",
    "df_mod_buurt.loc[(df_mod_buurt['woningwaarde keuro buurt']>=df_mod_buurt['woningwaarde keuro buurt'].quantile(q=0.25)) &\n",
    "                 (df_mod_buurt['woningwaarde keuro buurt']<=df_mod_buurt['woningwaarde keuro buurt'].quantile(q=0.50)), 'value group'] = 2 \n",
    "\n",
    "df_mod_buurt.loc[(df_mod_buurt['woningwaarde keuro buurt']>=df_mod_buurt['woningwaarde keuro buurt'].quantile(q=0.50)) &\n",
    "                 (df_mod_buurt['woningwaarde keuro buurt']<=df_mod_buurt['woningwaarde keuro buurt'].quantile(q=0.75)), 'value group'] = 3 \n",
    "\n",
    "df_mod_buurt.loc[(df_mod_buurt['woningwaarde keuro buurt']>=df_mod_buurt['woningwaarde keuro buurt'].quantile(q=0.75)) &\n",
    "                 (df_mod_buurt['woningwaarde keuro buurt']<=df_mod_buurt['woningwaarde keuro buurt'].quantile(q=1.00)), 'value group'] = 4 "
   ]
  },
  {
   "cell_type": "code",
   "execution_count": 30,
   "metadata": {},
   "outputs": [
    {
     "data": {
      "text/plain": [
       "4.0    3264\n",
       "3.0    3258\n",
       "1.0    3236\n",
       "2.0    3230\n",
       "Name: value group, dtype: int64"
      ]
     },
     "execution_count": 30,
     "metadata": {},
     "output_type": "execute_result"
    }
   ],
   "source": [
    "df_mod_buurt['value group'].value_counts()"
   ]
  },
  {
   "cell_type": "code",
   "execution_count": 31,
   "metadata": {},
   "outputs": [
    {
     "data": {
      "text/html": [
       "<div>\n",
       "<style scoped>\n",
       "    .dataframe tbody tr th:only-of-type {\n",
       "        vertical-align: middle;\n",
       "    }\n",
       "\n",
       "    .dataframe tbody tr th {\n",
       "        vertical-align: top;\n",
       "    }\n",
       "\n",
       "    .dataframe thead th {\n",
       "        text-align: right;\n",
       "    }\n",
       "</style>\n",
       "<table border=\"1\" class=\"dataframe\">\n",
       "  <thead>\n",
       "    <tr style=\"text-align: right;\">\n",
       "      <th></th>\n",
       "      <th>Entities</th>\n",
       "      <th>Mapping</th>\n",
       "      <th>Houses Detached BAG2018d</th>\n",
       "      <th>Houses 2u1Roof BAG2018d</th>\n",
       "      <th>Houses Corner BAG2018d</th>\n",
       "      <th>Houses Row BAG2018</th>\n",
       "      <th>Houses SingleFloorAppartments c5 BAG2018d</th>\n",
       "      <th>Houses MultiFloorAppartments c6 BAG2018d</th>\n",
       "      <th>Construction Year</th>\n",
       "      <th>Label A BAG2018d</th>\n",
       "      <th>...</th>\n",
       "      <th>Gemiddeld elektriciteitsgebruik hoekwoning kWh 2017</th>\n",
       "      <th>Gemiddeld elektriciteitsgebruik twee-onder-een-kap-woning kWh 2017</th>\n",
       "      <th>Gemiddeld elektriciteitsgebruik tussenwoning kWh 2017</th>\n",
       "      <th>Gemiddeld elektriciteitsgebruik vrijstaande woning kWh 2017</th>\n",
       "      <th>Aandeel stadsverwarming % 2017</th>\n",
       "      <th>Opgesteld vermogen geregistreerde PV-panelen per adres/locatie (gemiddelde) kWpiek 2015</th>\n",
       "      <th>Aantal installaties bij woningen (aantal)</th>\n",
       "      <th>Opgesteld vermogen van zonnepanelen (kW)</th>\n",
       "      <th>label group</th>\n",
       "      <th>value group</th>\n",
       "    </tr>\n",
       "  </thead>\n",
       "  <tbody>\n",
       "    <tr>\n",
       "      <th>0</th>\n",
       "      <td>Annen BU16800000</td>\n",
       "      <td>Wijk 00 Annen WK168000</td>\n",
       "      <td>582</td>\n",
       "      <td>478</td>\n",
       "      <td>160</td>\n",
       "      <td>204</td>\n",
       "      <td>134</td>\n",
       "      <td>0</td>\n",
       "      <td>1973.298460</td>\n",
       "      <td>72</td>\n",
       "      <td>...</td>\n",
       "      <td>2860.0000</td>\n",
       "      <td>3300.0000</td>\n",
       "      <td>2480.0000</td>\n",
       "      <td>3720.0</td>\n",
       "      <td>0.0</td>\n",
       "      <td>7.0</td>\n",
       "      <td>191.0</td>\n",
       "      <td>726.0</td>\n",
       "      <td>2.0</td>\n",
       "      <td>3.0</td>\n",
       "    </tr>\n",
       "    <tr>\n",
       "      <th>1</th>\n",
       "      <td>Verspreide huizen Annen BU16800009</td>\n",
       "      <td>Wijk 00 Annen WK168000</td>\n",
       "      <td>61</td>\n",
       "      <td>1</td>\n",
       "      <td>0</td>\n",
       "      <td>0</td>\n",
       "      <td>0</td>\n",
       "      <td>0</td>\n",
       "      <td>1956.096774</td>\n",
       "      <td>3</td>\n",
       "      <td>...</td>\n",
       "      <td>0.4242</td>\n",
       "      <td>0.4242</td>\n",
       "      <td>0.4242</td>\n",
       "      <td>4830.0</td>\n",
       "      <td>0.0</td>\n",
       "      <td>7.0</td>\n",
       "      <td>8.0</td>\n",
       "      <td>37.0</td>\n",
       "      <td>3.0</td>\n",
       "      <td>4.0</td>\n",
       "    </tr>\n",
       "    <tr>\n",
       "      <th>2</th>\n",
       "      <td>Eext BU16800100</td>\n",
       "      <td>Wijk 01 Eext WK168001</td>\n",
       "      <td>301</td>\n",
       "      <td>146</td>\n",
       "      <td>37</td>\n",
       "      <td>40</td>\n",
       "      <td>16</td>\n",
       "      <td>0</td>\n",
       "      <td>1954.994444</td>\n",
       "      <td>11</td>\n",
       "      <td>...</td>\n",
       "      <td>2440.0000</td>\n",
       "      <td>3150.0000</td>\n",
       "      <td>1970.0000</td>\n",
       "      <td>3590.0</td>\n",
       "      <td>0.0</td>\n",
       "      <td>4.0</td>\n",
       "      <td>59.0</td>\n",
       "      <td>232.0</td>\n",
       "      <td>3.0</td>\n",
       "      <td>3.0</td>\n",
       "    </tr>\n",
       "    <tr>\n",
       "      <th>3</th>\n",
       "      <td>Verspreide huizen Eext BU16800109</td>\n",
       "      <td>Wijk 01 Eext WK168001</td>\n",
       "      <td>47</td>\n",
       "      <td>1</td>\n",
       "      <td>0</td>\n",
       "      <td>0</td>\n",
       "      <td>1</td>\n",
       "      <td>0</td>\n",
       "      <td>1946.428571</td>\n",
       "      <td>1</td>\n",
       "      <td>...</td>\n",
       "      <td>0.4242</td>\n",
       "      <td>0.4242</td>\n",
       "      <td>0.4242</td>\n",
       "      <td>3340.0</td>\n",
       "      <td>0.0</td>\n",
       "      <td>6.0</td>\n",
       "      <td>9.0</td>\n",
       "      <td>42.0</td>\n",
       "      <td>4.0</td>\n",
       "      <td>4.0</td>\n",
       "    </tr>\n",
       "    <tr>\n",
       "      <th>4</th>\n",
       "      <td>Anloo BU16800200</td>\n",
       "      <td>Wijk 02 Anloo WK168002</td>\n",
       "      <td>99</td>\n",
       "      <td>41</td>\n",
       "      <td>2</td>\n",
       "      <td>1</td>\n",
       "      <td>2</td>\n",
       "      <td>0</td>\n",
       "      <td>1954.496552</td>\n",
       "      <td>4</td>\n",
       "      <td>...</td>\n",
       "      <td>0.4242</td>\n",
       "      <td>2600.0000</td>\n",
       "      <td>0.4242</td>\n",
       "      <td>3760.0</td>\n",
       "      <td>0.0</td>\n",
       "      <td>6.0</td>\n",
       "      <td>15.0</td>\n",
       "      <td>78.0</td>\n",
       "      <td>3.0</td>\n",
       "      <td>3.0</td>\n",
       "    </tr>\n",
       "  </tbody>\n",
       "</table>\n",
       "<p>5 rows × 35 columns</p>\n",
       "</div>"
      ],
      "text/plain": [
       "                             Entities                   Mapping  \\\n",
       "0                    Annen BU16800000  Wijk 00 Annen WK168000     \n",
       "1  Verspreide huizen Annen BU16800009  Wijk 00 Annen WK168000     \n",
       "2                     Eext BU16800100   Wijk 01 Eext WK168001     \n",
       "3   Verspreide huizen Eext BU16800109   Wijk 01 Eext WK168001     \n",
       "4                    Anloo BU16800200  Wijk 02 Anloo WK168002     \n",
       "\n",
       "   Houses Detached BAG2018d  Houses 2u1Roof BAG2018d  Houses Corner BAG2018d  \\\n",
       "0                       582                      478                     160   \n",
       "1                        61                        1                       0   \n",
       "2                       301                      146                      37   \n",
       "3                        47                        1                       0   \n",
       "4                        99                       41                       2   \n",
       "\n",
       "   Houses Row BAG2018  Houses SingleFloorAppartments c5 BAG2018d  \\\n",
       "0                 204                                        134   \n",
       "1                   0                                          0   \n",
       "2                  40                                         16   \n",
       "3                   0                                          1   \n",
       "4                   1                                          2   \n",
       "\n",
       "   Houses MultiFloorAppartments c6 BAG2018d  Construction Year  \\\n",
       "0                                         0        1973.298460   \n",
       "1                                         0        1956.096774   \n",
       "2                                         0        1954.994444   \n",
       "3                                         0        1946.428571   \n",
       "4                                         0        1954.496552   \n",
       "\n",
       "   Label A BAG2018d  ...  Gemiddeld elektriciteitsgebruik hoekwoning kWh 2017  \\\n",
       "0                72  ...                                          2860.0000     \n",
       "1                 3  ...                                             0.4242     \n",
       "2                11  ...                                          2440.0000     \n",
       "3                 1  ...                                             0.4242     \n",
       "4                 4  ...                                             0.4242     \n",
       "\n",
       "   Gemiddeld elektriciteitsgebruik twee-onder-een-kap-woning kWh 2017  \\\n",
       "0                                          3300.0000                    \n",
       "1                                             0.4242                    \n",
       "2                                          3150.0000                    \n",
       "3                                             0.4242                    \n",
       "4                                          2600.0000                    \n",
       "\n",
       "   Gemiddeld elektriciteitsgebruik tussenwoning kWh 2017  \\\n",
       "0                                          2480.0000       \n",
       "1                                             0.4242       \n",
       "2                                          1970.0000       \n",
       "3                                             0.4242       \n",
       "4                                             0.4242       \n",
       "\n",
       "   Gemiddeld elektriciteitsgebruik vrijstaande woning kWh 2017  \\\n",
       "0                                             3720.0             \n",
       "1                                             4830.0             \n",
       "2                                             3590.0             \n",
       "3                                             3340.0             \n",
       "4                                             3760.0             \n",
       "\n",
       "   Aandeel stadsverwarming % 2017  \\\n",
       "0                             0.0   \n",
       "1                             0.0   \n",
       "2                             0.0   \n",
       "3                             0.0   \n",
       "4                             0.0   \n",
       "\n",
       "   Opgesteld vermogen geregistreerde PV-panelen per adres/locatie (gemiddelde) kWpiek 2015  \\\n",
       "0                                                7.0                                         \n",
       "1                                                7.0                                         \n",
       "2                                                4.0                                         \n",
       "3                                                6.0                                         \n",
       "4                                                6.0                                         \n",
       "\n",
       "   Aantal installaties bij woningen (aantal)  \\\n",
       "0                                      191.0   \n",
       "1                                        8.0   \n",
       "2                                       59.0   \n",
       "3                                        9.0   \n",
       "4                                       15.0   \n",
       "\n",
       "   Opgesteld vermogen van zonnepanelen (kW)  label group  value group  \n",
       "0                                     726.0          2.0          3.0  \n",
       "1                                      37.0          3.0          4.0  \n",
       "2                                     232.0          3.0          3.0  \n",
       "3                                      42.0          4.0          4.0  \n",
       "4                                      78.0          3.0          3.0  \n",
       "\n",
       "[5 rows x 35 columns]"
      ]
     },
     "execution_count": 31,
     "metadata": {},
     "output_type": "execute_result"
    }
   ],
   "source": [
    "df_show = df_mod_buurt.drop(columns=['Bevolking buurt', 'Mannen buurt',\n",
    "       'Vrouwen buurt', 'Bevolking 0 tot 15 jaar buurt',\n",
    "       'Bevolking 15 tot 25 jaar buurt', 'Bevolking 25 tot 45 jaar buurt',\n",
    "       'Bevolking 45 tot 65 jaar buurt', 'Bevolking 65 jaar of ouder buurt',\n",
    "       'Bevolking Geboorte en sterfte Geboorte totaal aantal buurt',\n",
    "       'Bevolking Geboorte en sterfte Geboorte relatief per 1 000 inwoners buurt',\n",
    "       'Bevolking Geboorte en sterfte Sterfte totaal aantal buurt',\n",
    "       'Bevolking Geboorte en sterfte Sterfte relatief per 1 000 inwoners buurt',\n",
    "       'Huishoudens totaal buurt', 'Eenpersoonshuishoudens buurt',\n",
    "       'Huishoudens zonder kinderen buurt', 'Huishoudens met kinderen buurt',\n",
    "       'huishoudensgrootte ', 'Bevolkingsdichtheid per sqkm buurt',\n",
    "       'Woningvoorraad buurt', 'woningwaarde keuro buurt',\n",
    "       'eengezinswoning pc buurt', 'meergezinswoning pc buurt',\n",
    "       'onbewoond pc buurt', 'Koopwoningen pc buurt',\n",
    "       'Huurwoningen totaal pc buurt',\n",
    "       'Huurwoningen woningcorporatie pc buurt',\n",
    "       'Huurwoningen overige verhuurders pc buurt',\n",
    "       'Eigendom onbekend pc buurt', 'Bouwjaar voor 2000 pc buurt',\n",
    "       'Oppervlakte ', 'Oppervlakte land ha buurt',\n",
    "       'Oppervlakte water ha buurt', 'Buurt Code', 'House No'])\n",
    "\n",
    "df_show.head()"
   ]
  },
  {
   "cell_type": "markdown",
   "metadata": {},
   "source": [
    "#### Check data on income per neighbourhood"
   ]
  },
  {
   "cell_type": "code",
   "execution_count": 32,
   "metadata": {},
   "outputs": [
    {
     "data": {
      "text/plain": [
       "4072"
      ]
     },
     "execution_count": 32,
     "metadata": {},
     "output_type": "execute_result"
    }
   ],
   "source": [
    "df_inkomen_buurt = pd.read_csv(\"C:/Users/markhupkens/Dropbox/EnTransitionNL/0. Data/CBS_2017_Inkomen_Buurt.csv\", sep=';')\n",
    "\n",
    "df_inkomen_buurt['GemiddeldInkomenPerInkomensontvanger_65'] = pd.to_numeric(df_inkomen_buurt['GemiddeldInkomenPerInkomensontvanger_65'].str.lstrip(' ').replace('.', np.nan)) * 1000\n",
    "df_inkomen_buurt['GemiddeldInkomenPerInwoner_66'] = pd.to_numeric(df_inkomen_buurt['GemiddeldInkomenPerInwoner_66'].str.lstrip(' ').replace('.', np.nan)) * 1000\n",
    "\n",
    "len(df_inkomen_buurt.loc[df_inkomen_buurt['GemiddeldInkomenPerInwoner_66'] >0])"
   ]
  },
  {
   "cell_type": "code",
   "execution_count": 33,
   "metadata": {},
   "outputs": [
    {
     "data": {
      "text/plain": [
       "10099"
      ]
     },
     "execution_count": 33,
     "metadata": {},
     "output_type": "execute_result"
    }
   ],
   "source": [
    "len(df_mod_buurt.loc[df_mod_buurt['woningwaarde keuro buurt']>0]) - len(df_mod_buurt.loc[df_mod_buurt['woningwaarde keuro buurt']==0.4242])"
   ]
  },
  {
   "cell_type": "markdown",
   "metadata": {},
   "source": [
    "Data completeness of building value is far higher than data completeness of income per capita or average income per person."
   ]
  },
  {
   "cell_type": "markdown",
   "metadata": {},
   "source": [
    "### 4. Export new modelspecification file"
   ]
  },
  {
   "cell_type": "code",
   "execution_count": 34,
   "metadata": {},
   "outputs": [],
   "source": [
    "# export as xlsx to genereate new modelspecification file\n",
    "from pandas import ExcelWriter\n",
    "\n",
    "# with pd.ExcelWriter('D:/markhupkens/Dropbox/EnTransitionNL/0. Data/ModelSetUpEnergyNL01_MH.xlsx') as writer:  # doctest: +SKIP\n",
    "with pd.ExcelWriter('C:/Users/markhupkens/Dropbox/EnTransitionNL/ModelSetUpEnergyNL01_MH_avglabelgroup.xlsx') as writer:  # doctest: +SKIP\n",
    "    df_mod_buurt.to_excel(writer, sheet_name='buurt')\n",
    "    df_mod_wijk.to_excel(writer, sheet_name='wijk')\n",
    "    df_mod_gemeente.to_excel(writer, sheet_name='gemeente')\n",
    "    df_mod_mod.to_excel(writer, sheet_name='ModelSpecification')"
   ]
  },
  {
   "cell_type": "markdown",
   "metadata": {},
   "source": [
    "## OR ADD SPECIFIC COLUMN TO EXISTING FILE"
   ]
  },
  {
   "cell_type": "code",
   "execution_count": 35,
   "metadata": {},
   "outputs": [],
   "source": [
    "# Select columsn to merge\n",
    "df_new = df_mod_buurt[['Entities', 'label group','Average Label BAG2018d']]"
   ]
  },
  {
   "cell_type": "code",
   "execution_count": 36,
   "metadata": {},
   "outputs": [],
   "source": [
    "# Import exsiting file\n",
    "df_import_gemeente = pd.read_excel(\"C:/users/markhupkens/Dropbox/EnTransitionNL/MSETMnlEPdataMHv02.xlsx\",sheet_name='gemeente')\n",
    "df_import_buurt = pd.read_excel(\"C:/users/markhupkens/Dropbox/EnTransitionNL/MSETMnlEPdataMHv02.xlsx\",sheet_name='buurt')\n",
    "df_import_wijk = pd.read_excel(\"C:/users/markhupkens/Dropbox/EnTransitionNL/MSETMnlEPdataMHv02.xlsx\",sheet_name='wijk') # wijkdata horrible from klimaatmonitor\n",
    "df_import_mod = pd.read_excel(\"C:/users/markhupkens/Dropbox/EnTransitionNL/MSETMnlEPdataMHv02.xlsx\",sheet_name='ModelSpecification')"
   ]
  },
  {
   "cell_type": "code",
   "execution_count": 37,
   "metadata": {},
   "outputs": [],
   "source": [
    "df_final_buurt = df_import_buurt.merge(df_new,left_on='Entities', right_on='Entities',how='inner')\n",
    "\n",
    "# export as xlsx to genereate new modelspecification file\n",
    "from pandas import ExcelWriter\n",
    "\n",
    "# with pd.ExcelWriter('D:/markhupkens/Dropbox/EnTransitionNL/0. Data/ModelSetUpEnergyNL01_MH.xlsx') as writer:  # doctest: +SKIP\n",
    "with pd.ExcelWriter('C:/Users/markhupkens/Dropbox/EnTransitionNL/ModelSetUpEnergyNL02_MH_avglabelgroup.xlsx') as writer:  # doctest: +SKIP\n",
    "    df_final_buurt.to_excel(writer, sheet_name='buurt')\n",
    "    df_import_wijk.to_excel(writer, sheet_name='wijk')\n",
    "    df_import_gemeente.to_excel(writer, sheet_name='gemeente')\n",
    "    df_import_mod.to_excel(writer, sheet_name='ModelSpecification')"
   ]
  }
 ],
 "metadata": {
  "kernelspec": {
   "display_name": "Python 3",
   "language": "python",
   "name": "python3"
  },
  "language_info": {
   "codemirror_mode": {
    "name": "ipython",
    "version": 3
   },
   "file_extension": ".py",
   "mimetype": "text/x-python",
   "name": "python",
   "nbconvert_exporter": "python",
   "pygments_lexer": "ipython3",
   "version": "3.7.3"
  }
 },
 "nbformat": 4,
 "nbformat_minor": 2
}
