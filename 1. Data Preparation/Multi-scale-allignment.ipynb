{
 "cells": [
  {
   "cell_type": "code",
   "execution_count": 1,
   "metadata": {},
   "outputs": [],
   "source": [
    "import pandas as pd"
   ]
  },
  {
   "cell_type": "markdown",
   "metadata": {},
   "source": [
    "# Multi-scale-alignment\n",
    "\n",
    "- Alignement of spatial resolution in modelsetup data\n",
    "- Part of the energytransitionmodelling effort\n",
    "\n",
    "@author: Mark Hupkens\n",
    "@date: 16-05-2019"
   ]
  },
  {
   "cell_type": "code",
   "execution_count": 2,
   "metadata": {},
   "outputs": [],
   "source": [
    "'''Import files'''\n",
    "df_gem = pd.read_excel(\"D:/markhupkens/Dropbox/EnTransitionNL/0. Data/ModelSetUpEnergyNL01_MH.xlsx\", sheet_name='gemeente')\n",
    "df_buurt = pd.read_excel(\"D:/markhupkens/Dropbox/EnTransitionNL/0. Data/ModelSetUpEnergyNL01_MH.xlsx\", sheet_name='buurt')\n",
    "df_wijk = pd.read_excel(\"D:/markhupkens/Dropbox/EnTransitionNL/0. Data/ModelSetUpEnergyNL01_MH.xlsx\", sheet_name='wijk')\n",
    "df_mod = pd.read_excel(\"D:/markhupkens/Dropbox/EnTransitionNL/0. Data/ModelSetUpEnergyNL01_MH.xlsx\", sheet_name='ModelSpecification')  "
   ]
  },
  {
   "cell_type": "markdown",
   "metadata": {},
   "source": [
    "### Q: how do model scales line up in the data?"
   ]
  },
  {
   "cell_type": "code",
   "execution_count": 3,
   "metadata": {},
   "outputs": [
    {
     "name": "stdout",
     "output_type": "stream",
     "text": [
      "3067\n"
     ]
    }
   ],
   "source": [
    "print(df_wijk.Entities.nunique())"
   ]
  },
  {
   "cell_type": "code",
   "execution_count": 4,
   "metadata": {},
   "outputs": [
    {
     "name": "stdout",
     "output_type": "stream",
     "text": [
      "3067\n"
     ]
    }
   ],
   "source": [
    "print(df_buurt.Mapping.nunique())"
   ]
  },
  {
   "cell_type": "markdown",
   "metadata": {},
   "source": [
    "A: There are more wijken included as a mapping on buurt-level, than as there are entities on wijk-level\n",
    "A2: same applies for municipalities"
   ]
  },
  {
   "cell_type": "markdown",
   "metadata": {},
   "source": [
    "## Allign data resolutions"
   ]
  },
  {
   "cell_type": "code",
   "execution_count": 5,
   "metadata": {},
   "outputs": [],
   "source": [
    "'''Check and keep only rows if entities and mappings line up'''\n",
    "\n",
    "# Keep only gemeenten that are mappings in wijk\n",
    "df_gem_new = df_gem.loc[df_gem.Entities.isin(df_wijk.Mapping)==True]\n",
    "\n",
    "# Keep only wijk rows whose mapping is an entity in gemeente\n",
    "df_wijk_new = df_wijk.loc[df_wijk.Mapping.isin(df_gem_new.Entities)==True]\n",
    "\n",
    "# Keep only wijk rows whose entity is a mapping in df_buurt\n",
    "df_wijk_new = df_wijk_new.loc[df_wijk_new.Entities.isin(df_buurt.Mapping)==True]\n",
    "\n",
    "# Keep only buurten whose mapping is an entity in df_wijk\n",
    "df_buurt_new = df_buurt.loc[df_buurt.Mapping.isin(df_wijk_new.Entities)==True]"
   ]
  },
  {
   "cell_type": "code",
   "execution_count": 6,
   "metadata": {
    "scrolled": false
   },
   "outputs": [
    {
     "name": "stdout",
     "output_type": "stream",
     "text": [
      "df_buurt_new has length 11649\n",
      "df_wijk_new has length 2729\n",
      "df_gem has length 342\n"
     ]
    }
   ],
   "source": [
    "print('df_buurt_new has length',len(df_buurt_new))\n",
    "print('df_wijk_new has length', len(df_wijk_new))\n",
    "print('df_gem has length',len(df_gem_new))"
   ]
  },
  {
   "cell_type": "markdown",
   "metadata": {},
   "source": [
    "### Check new data resolutions"
   ]
  },
  {
   "cell_type": "code",
   "execution_count": 7,
   "metadata": {
    "scrolled": false
   },
   "outputs": [
    {
     "data": {
      "text/plain": [
       "True    11649\n",
       "Name: Mapping, dtype: int64"
      ]
     },
     "execution_count": 7,
     "metadata": {},
     "output_type": "execute_result"
    }
   ],
   "source": [
    "# buurt to wijk\n",
    "(df_buurt_new.Mapping.isin(df_wijk_new.Entities)==True).value_counts()"
   ]
  },
  {
   "cell_type": "code",
   "execution_count": 8,
   "metadata": {
    "scrolled": true
   },
   "outputs": [
    {
     "data": {
      "text/plain": [
       "True    2729\n",
       "Name: Mapping, dtype: int64"
      ]
     },
     "execution_count": 8,
     "metadata": {},
     "output_type": "execute_result"
    }
   ],
   "source": [
    "# Wijk to gem\n",
    "(df_wijk_new.Mapping.isin(df_gem_new.Entities)==True).value_counts()"
   ]
  },
  {
   "cell_type": "code",
   "execution_count": 9,
   "metadata": {},
   "outputs": [
    {
     "data": {
      "text/plain": [
       "True    342\n",
       "Name: Entities, dtype: int64"
      ]
     },
     "execution_count": 9,
     "metadata": {},
     "output_type": "execute_result"
    }
   ],
   "source": [
    "# Gem to wijk\n",
    "(df_gem_new.Entities.isin(df_wijk_new.Mapping)==True).value_counts()"
   ]
  },
  {
   "cell_type": "markdown",
   "metadata": {},
   "source": [
    "All resolutions now line up, as all mappings in a low-resolution dataframe are included as entities in a high-resolution dataframe"
   ]
  },
  {
   "cell_type": "markdown",
   "metadata": {},
   "source": [
    "### Data completeness\n",
    "\n",
    "How much data has been lost in the alignment process"
   ]
  },
  {
   "cell_type": "code",
   "execution_count": 10,
   "metadata": {
    "scrolled": true
   },
   "outputs": [
    {
     "name": "stdout",
     "output_type": "stream",
     "text": [
      "0 Gemeenten have been lost 0.0\n",
      "338 Wijken have been lost 11.020541245516792\n",
      "1339 Buurten have been lost 10.309516476747767\n"
     ]
    }
   ],
   "source": [
    "print(len(df_gem)-len(df_gem_new),'Gemeenten have been lost', (len(df_gem)-len(df_gem_new))/len(df_gem)*100 )\n",
    "print(len(df_wijk)-len(df_wijk_new),'Wijken have been lost', (len(df_wijk)-len(df_wijk_new))/len(df_wijk)*100)\n",
    "print(len(df_buurt)-len(df_buurt_new),'Buurten have been lost', (len(df_buurt)-len(df_buurt_new))/len(df_buurt)*100)"
   ]
  },
  {
   "cell_type": "markdown",
   "metadata": {},
   "source": [
    "### Export data to new stup file"
   ]
  },
  {
   "cell_type": "code",
   "execution_count": 11,
   "metadata": {},
   "outputs": [],
   "source": [
    "# export as xlsx to genereate new modelspecification file\n",
    "from pandas import ExcelWriter\n",
    "\n",
    "with pd.ExcelWriter('D:/markhupkens/Dropbox/EnTransitionNL/0. Data/ModelSetUpEnergyNL02EPMH3Aligned.xlsx') as writer:  # doctest: +SKIP\n",
    "    df_buurt_new.to_excel(writer, sheet_name='buurt')\n",
    "    df_wijk_new.to_excel(writer, sheet_name='wijk')\n",
    "    df_gem_new.to_excel(writer, sheet_name='gemeente')\n",
    "    df_mod.to_excel(writer, sheet_name='ModelSpecification')"
   ]
  },
  {
   "cell_type": "code",
   "execution_count": 12,
   "metadata": {},
   "outputs": [
    {
     "name": "stdout",
     "output_type": "stream",
     "text": [
      "11649\n",
      "2729\n",
      "342\n"
     ]
    }
   ],
   "source": [
    "print(len(df_buurt_new))\n",
    "print(len(df_wijk_new))\n",
    "print(len(df_gem_new))"
   ]
  }
 ],
 "metadata": {
  "kernelspec": {
   "display_name": "Python 3",
   "language": "python",
   "name": "python3"
  },
  "language_info": {
   "codemirror_mode": {
    "name": "ipython",
    "version": 3
   },
   "file_extension": ".py",
   "mimetype": "text/x-python",
   "name": "python",
   "nbconvert_exporter": "python",
   "pygments_lexer": "ipython3",
   "version": "3.7.3"
  }
 },
 "nbformat": 4,
 "nbformat_minor": 2
}
