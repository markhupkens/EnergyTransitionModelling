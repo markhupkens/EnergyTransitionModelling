{
 "cells": [
  {
   "cell_type": "markdown",
   "metadata": {},
   "source": [
    "# EV charger scraper\n",
    "\n",
    "- Notebook to scrape available data on public and private ev chargers in The Netherlands\n",
    "- Data from [oplaadpalen.nl](https://oplaadpalen.nl/)\n",
    "- Quick visualization\n",
    "- part of MSc thesis at Delft University of Technology\n",
    "\n",
    "@author: Mark Hupkens"
   ]
  },
  {
   "cell_type": "code",
   "execution_count": 1,
   "metadata": {},
   "outputs": [],
   "source": [
    "import pandas as pd\n",
    "import requests\n",
    "# import urllib2\n",
    "from bs4 import BeautifulSoup\n",
    "import urllib.request\n",
    "import numpy as np"
   ]
  },
  {
   "cell_type": "markdown",
   "metadata": {},
   "source": [
    "### API Parameters\n",
    "\n",
    "- access_type element of (public, company, private)\n",
    "- availability (available, in use)\n",
    "- charging & power (Normal, fast)"
   ]
  },
  {
   "cell_type": "markdown",
   "metadata": {},
   "source": [
    "### Loop over a range of gps coordinates"
   ]
  },
  {
   "cell_type": "code",
   "execution_count": 2,
   "metadata": {
    "scrolled": true
   },
   "outputs": [
    {
     "name": "stdout",
     "output_type": "stream",
     "text": [
      "50.5,7.399999999999999,50.6,3.4 58\n",
      "50.6,7.399999999999999,50.7,3.4 114\n",
      "50.7,7.399999999999999,50.800000000000004,3.4 297\n",
      "50.800000000000004,7.399999999999999,50.900000000000006,3.4 603\n",
      "50.900000000000006,7.399999999999999,51.00000000000001,3.4 537\n",
      "51.00000000000001,7.399999999999999,51.10000000000001,3.4 479\n",
      "51.10000000000001,7.399999999999999,51.20000000000001,3.4 491\n",
      "51.20000000000001,7.399999999999999,51.30000000000001,3.4 487\n",
      "51.30000000000001,7.399999999999999,51.40000000000001,3.4 362\n",
      "51.40000000000001,7.399999999999999,51.500000000000014,3.4 843\n",
      "51.500000000000014,7.399999999999999,51.600000000000016,3.4 932\n",
      "51.600000000000016,7.399999999999999,51.70000000000002,3.4 664\n",
      "51.70000000000002,7.399999999999999,51.80000000000002,3.4 548\n",
      "51.80000000000002,7.399999999999999,51.90000000000002,3.4 1448\n",
      "51.90000000000002,7.399999999999999,52.00000000000002,3.4 1790\n",
      "52.00000000000002,7.399999999999999,52.10000000000002,3.4 2616\n",
      "52.10000000000002,7.399999999999999,52.200000000000024,3.4 1577\n",
      "52.200000000000024,7.399999999999999,52.300000000000026,3.4 1386\n",
      "52.300000000000026,7.399999999999999,52.40000000000003,3.4 2156\n",
      "52.40000000000003,7.399999999999999,52.50000000000003,3.4 666\n",
      "52.50000000000003,7.399999999999999,52.60000000000003,3.4 468\n",
      "52.60000000000003,7.399999999999999,52.70000000000003,3.4 482\n",
      "52.70000000000003,7.399999999999999,52.80000000000003,3.4 225\n",
      "52.80000000000003,7.399999999999999,52.900000000000034,3.4 77\n",
      "52.900000000000034,7.399999999999999,53.000000000000036,3.4 165\n",
      "53.000000000000036,7.399999999999999,53.10000000000004,3.4 150\n",
      "53.10000000000004,7.399999999999999,53.20000000000004,3.4 270\n",
      "53.20000000000004,7.399999999999999,53.30000000000004,3.4 280\n",
      "53.30000000000004,7.399999999999999,53.40000000000004,3.4 63\n",
      "53.40000000000004,7.399999999999999,53.50000000000004,3.4 20\n",
      "53.50000000000004,7.399999999999999,53.600000000000044,3.4 12\n",
      "53.600000000000044,7.399999999999999,53.700000000000045,3.4 3\n",
      "53.700000000000045,7.399999999999999,53.80000000000005,3.4 2\n"
     ]
    }
   ],
   "source": [
    "# Loop over range to create box\n",
    "zoom ='15'\n",
    "accesstype = 'public,company,private' # gather types of chargers\n",
    "d = {}\n",
    "boxes = [ (lon, lat) for lon in np.arange(50.5,54,.1) for lat in np.arange (3.4,7.5,.4)]\n",
    "\n",
    "for count, box in enumerate(boxes):\n",
    "    if count==0:\n",
    "        box = (str(boxes[count])+\",\"+str(box))\n",
    "        box = box.replace(\")\",\"\").replace(\"(\",\"\").replace(\" \",\"\")\n",
    "    else:\n",
    "        box = (str(boxes[count-1])+\",\"+str(box))\n",
    "        box = box.replace(\")\",\"\").replace(\"(\",\"\").replace(\" \",\"\")\n",
    "    \n",
    "    url = 'https://oplaadpalen.nl/api/maplist/clusterset?box='+box+'&zoom='+str(zoom)+'&accessType='+accesstype+'&available=available,charging&power=fast,normal'\n",
    "    response = requests.get(url)\n",
    "    data = response.json()\n",
    "    df = pd.DataFrame.from_dict(data['data'])\n",
    "    if len(df) != 0: # only save data if len>0\n",
    "        d[box] = df\n",
    "        print(box,len(df))\n"
   ]
  },
  {
   "cell_type": "code",
   "execution_count": 3,
   "metadata": {
    "scrolled": true
   },
   "outputs": [
    {
     "data": {
      "text/plain": [
       "20271"
      ]
     },
     "execution_count": 3,
     "metadata": {},
     "output_type": "execute_result"
    }
   ],
   "source": [
    "# Show length of all stored dataframes\n",
    "l=[]\n",
    "for key in d:\n",
    "    l.append(len(d[key]))\n",
    "sum(l)"
   ]
  },
  {
   "cell_type": "code",
   "execution_count": 4,
   "metadata": {
    "scrolled": true
   },
   "outputs": [
    {
     "data": {
      "text/plain": [
       "[['id', 'point', 'power', 'publicaccess', 'status'],\n",
       " ['cluster', 'id', 'point', 'power', 'publicaccess', 'status'],\n",
       " ['staticCluster']]"
      ]
     },
     "execution_count": 4,
     "metadata": {},
     "output_type": "execute_result"
    }
   ],
   "source": [
    "# Save unique heading combinations\n",
    "l2=[]\n",
    "for key in d:\n",
    "    if d[key].columns.values.tolist() not in l2:\n",
    "        l2.append(d[key].columns.values.tolist())\n",
    "\n",
    "l2"
   ]
  },
  {
   "cell_type": "code",
   "execution_count": 5,
   "metadata": {},
   "outputs": [],
   "source": [
    "# Append keys of correct columnnumber to list\n",
    "l_5col = []\n",
    "l_6col = []\n",
    "l_1col = []\n",
    "\n",
    "for key in d:\n",
    "    if d[key].columns.values.tolist() == l2[0]:\n",
    "        l_5col.append(key)\n",
    "    elif d[key].columns.values.tolist() == l2[1]:\n",
    "        l_6col.append(key)\n",
    "    elif d[key].columns.values.tolist() == l2[2]:\n",
    "        l_1col.append(key)"
   ]
  },
  {
   "cell_type": "code",
   "execution_count": 32,
   "metadata": {},
   "outputs": [],
   "source": [
    "# Used lists of keys to create dataframes\n",
    "\n",
    "df_5_col = pd.DataFrame(columns = l2[0])\n",
    "df_6_col = pd.DataFrame(columns = l2[1])\n",
    "df_1_col = pd.DataFrame(columns = l2[2])\n",
    "\n",
    "for key in l_5col:\n",
    "    df_5_col = df_5_col.append(d[key],ignore_index=True)\n",
    "for key in l_6col:\n",
    "    df_6_col = df_6_col.append(d[key],ignore_index=True)\n",
    "for key in l_1col:\n",
    "    df_1_col = df_1_col.append(d[key],ignore_index=True)"
   ]
  },
  {
   "cell_type": "code",
   "execution_count": 7,
   "metadata": {},
   "outputs": [],
   "source": [
    "# Drop useless column\n",
    "df_6_col.drop('cluster', axis=1, inplace=True)"
   ]
  },
  {
   "cell_type": "markdown",
   "metadata": {},
   "source": [
    "### Function to parse data"
   ]
  },
  {
   "cell_type": "code",
   "execution_count": 8,
   "metadata": {},
   "outputs": [],
   "source": [
    "def parse_df(df):\n",
    "    if df.columns.isin(['id', 'point', 'power', 'publicaccess', 'status']).all() or df.columns.isin(['cluster', 'id', 'point', 'power', 'publicaccess', 'status']).all():\n",
    "\n",
    "        # Extract Dict data\n",
    "        df = df.merge(df['point'].apply(pd.Series), left_index=True, right_index=True) #lng lat\n",
    "        df = df.merge(df.status.apply(pd.Series), left_index=True, right_index=True) #availability charging\n",
    "        \n",
    "        #drop columns\n",
    "        df = df[['power','publicaccess','lat','lng','available','charging']]\n",
    "        return df\n",
    "    else:\n",
    "        print('Scraped data not in correct format')\n"
   ]
  },
  {
   "cell_type": "code",
   "execution_count": 9,
   "metadata": {},
   "outputs": [],
   "source": [
    "# Parse data and merge\n",
    "df_charge = parse_df(df_5_col)\n",
    "df_charge = df_charge.append(parse_df(df_6_col))"
   ]
  },
  {
   "cell_type": "code",
   "execution_count": 10,
   "metadata": {
    "scrolled": false
   },
   "outputs": [
    {
     "data": {
      "text/html": [
       "<div>\n",
       "<style scoped>\n",
       "    .dataframe tbody tr th:only-of-type {\n",
       "        vertical-align: middle;\n",
       "    }\n",
       "\n",
       "    .dataframe tbody tr th {\n",
       "        vertical-align: top;\n",
       "    }\n",
       "\n",
       "    .dataframe thead th {\n",
       "        text-align: right;\n",
       "    }\n",
       "</style>\n",
       "<table border=\"1\" class=\"dataframe\">\n",
       "  <thead>\n",
       "    <tr style=\"text-align: right;\">\n",
       "      <th></th>\n",
       "      <th>power</th>\n",
       "      <th>publicaccess</th>\n",
       "      <th>lat</th>\n",
       "      <th>lng</th>\n",
       "      <th>available</th>\n",
       "      <th>charging</th>\n",
       "    </tr>\n",
       "  </thead>\n",
       "  <tbody>\n",
       "    <tr>\n",
       "      <th>0</th>\n",
       "      <td>22080</td>\n",
       "      <td>Public</td>\n",
       "      <td>50.50073376</td>\n",
       "      <td>5.24111517</td>\n",
       "      <td>1</td>\n",
       "      <td>0</td>\n",
       "    </tr>\n",
       "    <tr>\n",
       "      <th>1</th>\n",
       "      <td>22000</td>\n",
       "      <td>Public</td>\n",
       "      <td>50.50283086</td>\n",
       "      <td>5.11911117</td>\n",
       "      <td>0</td>\n",
       "      <td>0</td>\n",
       "    </tr>\n",
       "    <tr>\n",
       "      <th>2</th>\n",
       "      <td>22000</td>\n",
       "      <td>Public</td>\n",
       "      <td>50.50300603</td>\n",
       "      <td>5.87175581</td>\n",
       "      <td>0</td>\n",
       "      <td>0</td>\n",
       "    </tr>\n",
       "    <tr>\n",
       "      <th>3</th>\n",
       "      <td>22080</td>\n",
       "      <td>Private</td>\n",
       "      <td>50.50388791</td>\n",
       "      <td>4.46993699</td>\n",
       "      <td>2</td>\n",
       "      <td>0</td>\n",
       "    </tr>\n",
       "    <tr>\n",
       "      <th>4</th>\n",
       "      <td>22000</td>\n",
       "      <td>Public</td>\n",
       "      <td>50.50503506</td>\n",
       "      <td>5.88437543</td>\n",
       "      <td>0</td>\n",
       "      <td>0</td>\n",
       "    </tr>\n",
       "  </tbody>\n",
       "</table>\n",
       "</div>"
      ],
      "text/plain": [
       "   power publicaccess          lat         lng available charging\n",
       "0  22080       Public  50.50073376  5.24111517         1        0\n",
       "1  22000       Public  50.50283086  5.11911117         0        0\n",
       "2  22000       Public  50.50300603  5.87175581         0        0\n",
       "3  22080      Private  50.50388791  4.46993699         2        0\n",
       "4  22000       Public  50.50503506  5.88437543         0        0"
      ]
     },
     "execution_count": 10,
     "metadata": {},
     "output_type": "execute_result"
    }
   ],
   "source": [
    "df_charge.head()"
   ]
  },
  {
   "cell_type": "code",
   "execution_count": 33,
   "metadata": {
    "scrolled": true
   },
   "outputs": [
    {
     "data": {
      "text/html": [
       "<div>\n",
       "<style scoped>\n",
       "    .dataframe tbody tr th:only-of-type {\n",
       "        vertical-align: middle;\n",
       "    }\n",
       "\n",
       "    .dataframe tbody tr th {\n",
       "        vertical-align: top;\n",
       "    }\n",
       "\n",
       "    .dataframe thead th {\n",
       "        text-align: right;\n",
       "    }\n",
       "</style>\n",
       "<table border=\"1\" class=\"dataframe\">\n",
       "  <thead>\n",
       "    <tr style=\"text-align: right;\">\n",
       "      <th></th>\n",
       "      <th>lat</th>\n",
       "      <th>lng</th>\n",
       "      <th>count</th>\n",
       "      <th>publicaccess</th>\n",
       "    </tr>\n",
       "  </thead>\n",
       "  <tbody>\n",
       "    <tr>\n",
       "      <th>0</th>\n",
       "      <td>52.01225628</td>\n",
       "      <td>6.13546952</td>\n",
       "      <td>1</td>\n",
       "      <td>unknown</td>\n",
       "    </tr>\n",
       "    <tr>\n",
       "      <th>1</th>\n",
       "      <td>52.01644447</td>\n",
       "      <td>6.13132338</td>\n",
       "      <td>1</td>\n",
       "      <td>unknown</td>\n",
       "    </tr>\n",
       "    <tr>\n",
       "      <th>2</th>\n",
       "      <td>52.04621124</td>\n",
       "      <td>5.67533739</td>\n",
       "      <td>1</td>\n",
       "      <td>unknown</td>\n",
       "    </tr>\n",
       "    <tr>\n",
       "      <th>3</th>\n",
       "      <td>52.04557260</td>\n",
       "      <td>5.66836542</td>\n",
       "      <td>1</td>\n",
       "      <td>unknown</td>\n",
       "    </tr>\n",
       "    <tr>\n",
       "      <th>4</th>\n",
       "      <td>52.01906509</td>\n",
       "      <td>5.66270176</td>\n",
       "      <td>1</td>\n",
       "      <td>unknown</td>\n",
       "    </tr>\n",
       "  </tbody>\n",
       "</table>\n",
       "</div>"
      ],
      "text/plain": [
       "           lat         lng  count publicaccess\n",
       "0  52.01225628  6.13546952      1      unknown\n",
       "1  52.01644447  6.13132338      1      unknown\n",
       "2  52.04621124  5.67533739      1      unknown\n",
       "3  52.04557260  5.66836542      1      unknown\n",
       "4  52.01906509  5.66270176      1      unknown"
      ]
     },
     "execution_count": 33,
     "metadata": {},
     "output_type": "execute_result"
    }
   ],
   "source": [
    "df_1_col = df_1_col.staticCluster.apply(pd.Series)\n",
    "df_1_col['publicaccess'] = 'unknown'\n",
    "df_1_col.head()"
   ]
  },
  {
   "cell_type": "code",
   "execution_count": 12,
   "metadata": {},
   "outputs": [
    {
     "name": "stderr",
     "output_type": "stream",
     "text": [
      "C:\\Users\\markhupkens\\Anaconda3\\lib\\site-packages\\pandas\\core\\frame.py:6692: FutureWarning: Sorting because non-concatenation axis is not aligned. A future version\n",
      "of pandas will change to not sort by default.\n",
      "\n",
      "To accept the future behavior, pass 'sort=False'.\n",
      "\n",
      "To retain the current behavior and silence the warning, pass 'sort=True'.\n",
      "\n",
      "  sort=sort)\n"
     ]
    },
    {
     "data": {
      "text/plain": [
       "20271"
      ]
     },
     "execution_count": 12,
     "metadata": {},
     "output_type": "execute_result"
    }
   ],
   "source": [
    "df_charge = df_charge.append(df_1_col)\n",
    "len(df_charge)"
   ]
  },
  {
   "cell_type": "code",
   "execution_count": 13,
   "metadata": {},
   "outputs": [
    {
     "data": {
      "text/plain": [
       "Public     9123\n",
       "Company    3467\n",
       "unknown    2616\n",
       "Private    2545\n",
       "Name: publicaccess, dtype: int64"
      ]
     },
     "execution_count": 13,
     "metadata": {},
     "output_type": "execute_result"
    }
   ],
   "source": [
    "# Data overview\n",
    "df_charge.publicaccess.value_counts()"
   ]
  },
  {
   "cell_type": "code",
   "execution_count": 14,
   "metadata": {},
   "outputs": [],
   "source": [
    "# store data\n",
    "df_charge.to_csv('data/ev_chargers_scraped.csv')"
   ]
  },
  {
   "cell_type": "markdown",
   "metadata": {},
   "source": [
    "### Plot with geopandas"
   ]
  },
  {
   "cell_type": "code",
   "execution_count": 15,
   "metadata": {},
   "outputs": [],
   "source": [
    "df_charge = pd.read_csv('data/ev_chargers_scraped.csv')"
   ]
  },
  {
   "cell_type": "code",
   "execution_count": 16,
   "metadata": {},
   "outputs": [],
   "source": [
    "import geopandas as gpd\n",
    "from shapely.geometry import Point, Polygon\n",
    "import descartes\n",
    "import matplotlib.pyplot as plt\n",
    "%matplotlib inline"
   ]
  },
  {
   "cell_type": "code",
   "execution_count": 17,
   "metadata": {},
   "outputs": [],
   "source": [
    "df_charge.lng = pd.to_numeric(df_charge.lng)\n",
    "df_charge.lat = pd.to_numeric(df_charge.lat)"
   ]
  },
  {
   "cell_type": "code",
   "execution_count": 18,
   "metadata": {},
   "outputs": [
    {
     "data": {
      "text/plain": [
       "[<shapely.geometry.point.Point at 0x1931eac7da0>,\n",
       " <shapely.geometry.point.Point at 0x1931eac7e10>,\n",
       " <shapely.geometry.point.Point at 0x1931eac7f98>]"
      ]
     },
     "execution_count": 18,
     "metadata": {},
     "output_type": "execute_result"
    }
   ],
   "source": [
    "geometry = [Point(xy) for xy in zip (df_charge.lng, df_charge.lat)]\n",
    "geometry[:3]"
   ]
  },
  {
   "cell_type": "code",
   "execution_count": 19,
   "metadata": {},
   "outputs": [
    {
     "data": {
      "text/html": [
       "<div>\n",
       "<style scoped>\n",
       "    .dataframe tbody tr th:only-of-type {\n",
       "        vertical-align: middle;\n",
       "    }\n",
       "\n",
       "    .dataframe tbody tr th {\n",
       "        vertical-align: top;\n",
       "    }\n",
       "\n",
       "    .dataframe thead th {\n",
       "        text-align: right;\n",
       "    }\n",
       "</style>\n",
       "<table border=\"1\" class=\"dataframe\">\n",
       "  <thead>\n",
       "    <tr style=\"text-align: right;\">\n",
       "      <th></th>\n",
       "      <th>Unnamed: 0</th>\n",
       "      <th>available</th>\n",
       "      <th>charging</th>\n",
       "      <th>count</th>\n",
       "      <th>lat</th>\n",
       "      <th>lng</th>\n",
       "      <th>power</th>\n",
       "      <th>publicaccess</th>\n",
       "      <th>geometry</th>\n",
       "    </tr>\n",
       "  </thead>\n",
       "  <tbody>\n",
       "    <tr>\n",
       "      <th>0</th>\n",
       "      <td>0</td>\n",
       "      <td>1.0</td>\n",
       "      <td>0.0</td>\n",
       "      <td>NaN</td>\n",
       "      <td>50.500734</td>\n",
       "      <td>5.241115</td>\n",
       "      <td>22080.0</td>\n",
       "      <td>Public</td>\n",
       "      <td>POINT (5.24111517 50.50073376)</td>\n",
       "    </tr>\n",
       "    <tr>\n",
       "      <th>1</th>\n",
       "      <td>1</td>\n",
       "      <td>0.0</td>\n",
       "      <td>0.0</td>\n",
       "      <td>NaN</td>\n",
       "      <td>50.502831</td>\n",
       "      <td>5.119111</td>\n",
       "      <td>22000.0</td>\n",
       "      <td>Public</td>\n",
       "      <td>POINT (5.11911117 50.50283086)</td>\n",
       "    </tr>\n",
       "    <tr>\n",
       "      <th>2</th>\n",
       "      <td>2</td>\n",
       "      <td>0.0</td>\n",
       "      <td>0.0</td>\n",
       "      <td>NaN</td>\n",
       "      <td>50.503006</td>\n",
       "      <td>5.871756</td>\n",
       "      <td>22000.0</td>\n",
       "      <td>Public</td>\n",
       "      <td>POINT (5.87175581 50.50300603)</td>\n",
       "    </tr>\n",
       "    <tr>\n",
       "      <th>3</th>\n",
       "      <td>3</td>\n",
       "      <td>2.0</td>\n",
       "      <td>0.0</td>\n",
       "      <td>NaN</td>\n",
       "      <td>50.503888</td>\n",
       "      <td>4.469937</td>\n",
       "      <td>22080.0</td>\n",
       "      <td>Private</td>\n",
       "      <td>POINT (4.46993699 50.50388791)</td>\n",
       "    </tr>\n",
       "    <tr>\n",
       "      <th>4</th>\n",
       "      <td>4</td>\n",
       "      <td>0.0</td>\n",
       "      <td>0.0</td>\n",
       "      <td>NaN</td>\n",
       "      <td>50.505035</td>\n",
       "      <td>5.884375</td>\n",
       "      <td>22000.0</td>\n",
       "      <td>Public</td>\n",
       "      <td>POINT (5.88437543 50.50503506)</td>\n",
       "    </tr>\n",
       "  </tbody>\n",
       "</table>\n",
       "</div>"
      ],
      "text/plain": [
       "   Unnamed: 0  available  charging  count        lat       lng    power  \\\n",
       "0           0        1.0       0.0    NaN  50.500734  5.241115  22080.0   \n",
       "1           1        0.0       0.0    NaN  50.502831  5.119111  22000.0   \n",
       "2           2        0.0       0.0    NaN  50.503006  5.871756  22000.0   \n",
       "3           3        2.0       0.0    NaN  50.503888  4.469937  22080.0   \n",
       "4           4        0.0       0.0    NaN  50.505035  5.884375  22000.0   \n",
       "\n",
       "  publicaccess                        geometry  \n",
       "0       Public  POINT (5.24111517 50.50073376)  \n",
       "1       Public  POINT (5.11911117 50.50283086)  \n",
       "2       Public  POINT (5.87175581 50.50300603)  \n",
       "3      Private  POINT (4.46993699 50.50388791)  \n",
       "4       Public  POINT (5.88437543 50.50503506)  "
      ]
     },
     "execution_count": 19,
     "metadata": {},
     "output_type": "execute_result"
    }
   ],
   "source": [
    "gdf = gpd.GeoDataFrame(df_charge, geometry=geometry)\n",
    "gdf.head()"
   ]
  },
  {
   "cell_type": "code",
   "execution_count": 30,
   "metadata": {},
   "outputs": [
    {
     "data": {
      "text/plain": [
       "<matplotlib.axes._subplots.AxesSubplot at 0x19322133b38>"
      ]
     },
     "execution_count": 30,
     "metadata": {},
     "output_type": "execute_result"
    },
    {
     "data": {
      "image/png": "[encoded data removed]",
      "text/plain": [
       "<Figure size 432x288 with 1 Axes>"
      ]
     },
     "metadata": {
      "needs_background": "light"
     },
     "output_type": "display_data"
    }
   ],
   "source": [
    "gdf.crs = {'init' :'epsg:4326'}\n",
    "gdf.plot()"
   ]
  }
 ],
 "metadata": {
  "kernelspec": {
   "display_name": "Python 3",
   "language": "python",
   "name": "python3"
  },
  "language_info": {
   "codemirror_mode": {
    "name": "ipython",
    "version": 3
   },
   "file_extension": ".py",
   "mimetype": "text/x-python",
   "name": "python",
   "nbconvert_exporter": "python",
   "pygments_lexer": "ipython3",
   "version": "3.7.3"
  },
  "name": "runner_v0.02",
  "notebookId": 2674978377172213
 },
 "nbformat": 4,
 "nbformat_minor": 2
}
