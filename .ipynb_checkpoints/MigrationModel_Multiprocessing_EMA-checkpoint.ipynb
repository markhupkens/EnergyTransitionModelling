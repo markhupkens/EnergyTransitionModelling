{
 "cells": [
  {
   "cell_type": "markdown",
   "metadata": {},
   "source": [
    "# EMA Experimentation Multiprocessing"
   ]
  },
  {
   "cell_type": "markdown",
   "metadata": {},
   "source": [
    "This notebook allows for experimentation with EMA workbench.  \n",
    "\n",
    "The model also requires the data files to be in the folder of this notebook and the model."
   ]
  },
  {
   "cell_type": "markdown",
   "metadata": {},
   "source": [
    "## 1. Importing the required Python packages"
   ]
  },
  {
   "cell_type": "code",
   "execution_count": 1,
   "metadata": {},
   "outputs": [
    {
     "name": "stderr",
     "output_type": "stream",
     "text": [
      "C:\\Users\\LocalAdmin\\Anaconda3\\lib\\site-packages\\ema_workbench\\em_framework\\optimization.py:29: ImportWarning: platypus based optimization not available\n",
      "  warnings.warn(\"platypus based optimization not available\", ImportWarning)\n",
      "C:\\Users\\LocalAdmin\\Anaconda3\\lib\\site-packages\\ema_workbench\\connectors\\__init__.py:18: ImportWarning: netlogo connector not available\n",
      "  warnings.warn(\"netlogo connector not available\", ImportWarning)\n",
      "C:\\Users\\LocalAdmin\\Anaconda3\\lib\\site-packages\\ema_workbench\\connectors\\__init__.py:23: ImportWarning: pysd connector not available\n",
      "  warnings.warn(\"pysd connector not available\", ImportWarning)\n",
      "C:\\Users\\LocalAdmin\\Anaconda3\\lib\\importlib\\_bootstrap.py:219: ImportWarning: can't resolve package from __spec__ or __package__, falling back on __name__ and __path__\n",
      "  return f(*args, **kwds)\n"
     ]
    }
   ],
   "source": [
    "from ema_workbench import(Model, RealParameter,Constant,IntegerParameter,CategoricalParameter, TimeSeriesOutcome, Policy, load_results, perform_experiments, ema_logging, save_results)\n",
    "from ema_workbench.connectors.vensim import VensimModel  \n",
    "from ema_workbench.em_framework.evaluators import LHS, SOBOL\n",
    "import timeit\n",
    "from ema_workbench import MultiprocessingEvaluator\n",
    "from ema_workbench.analysis.plotting import envelopes \n",
    "\n",
    "from ema_workbench.analysis.plotting_util import KDE\n",
    "import pandas as pd\n",
    "import numpy as np"
   ]
  },
  {
   "cell_type": "markdown",
   "metadata": {},
   "source": [
    "## 2. Loading the Vensim model"
   ]
  },
  {
   "cell_type": "markdown",
   "metadata": {},
   "source": [
    "In this step, we specify the working directory (this should be the location of this notebook and the Vensim model file), and import the Vensim model into our workspace. Note that the model file needs to have a .vpm extension, which can be created by using the publish function in Vensim. \n",
    "\n",
    "In addition, the Vensim dll can be specified if required. This defaults to 'vendll32.dll' for the normal vensimdll, but if double precision is installed and required, change this to 'vdpdll32'. [Note: Since only one model can be loaded per dll file, this also allows for two models to be loaded at the same time.]\n",
    "\n",
    "We can also specify a name for the .vdf file in which we want Venpy to store the intermediate results. Note that this file should not be in use by any other program. This defaults to 'CurrentRun'. "
   ]
  },
  {
   "cell_type": "code",
   "execution_count": 2,
   "metadata": {
    "collapsed": true
   },
   "outputs": [],
   "source": [
    "wd =r'.\\migrationmodel'\n",
    "model = VensimModel('WorldMigrationModel', wd = wd , model_file=r'D:\\Migration\\MigrationDynamicsFinal.vpm')"
   ]
  },
  {
   "cell_type": "code",
   "execution_count": 3,
   "metadata": {},
   "outputs": [
    {
     "data": {
      "text/plain": [
       "<Logger EMA (DEBUG)>"
      ]
     },
     "execution_count": 3,
     "metadata": {},
     "output_type": "execute_result"
    }
   ],
   "source": [
    "ema_logging.log_to_stderr(ema_logging.INFO)   # we want to see what EMA is doing"
   ]
  },
  {
   "cell_type": "code",
   "execution_count": 4,
   "metadata": {
    "collapsed": true
   },
   "outputs": [],
   "source": [
    "names = pd.read_excel('contiguity_data.xlsx', 'Sheet1')"
   ]
  },
  {
   "cell_type": "code",
   "execution_count": 5,
   "metadata": {
    "collapsed": true
   },
   "outputs": [],
   "source": [
    "names.set_index('country', inplace = True)"
   ]
  },
  {
   "cell_type": "code",
   "execution_count": 6,
   "metadata": {
    "collapsed": true
   },
   "outputs": [],
   "source": [
    "country_list = list(names.index)"
   ]
  },
  {
   "cell_type": "markdown",
   "metadata": {},
   "source": [
    "## 3. Specify uncertainties and outcomes"
   ]
  },
  {
   "cell_type": "markdown",
   "metadata": {},
   "source": [
    "Here we will specify the uncertainties and outcomes. The subscript of a variable is simply placed between square brackets. "
   ]
  },
  {
   "cell_type": "code",
   "execution_count": 7,
   "metadata": {
    "collapsed": true
   },
   "outputs": [],
   "source": [
    "uncertainties = [CategoricalParameter('SWITCH min0 smth1 max2 stickyrndm3 pinkrndm4', [0,1,2,3,4]),\n",
    "                 RealParameter('pc of pop atR of conflict violence', 0.2 , 0.95), # 0.03\n",
    "                 RealParameter('pc of pop at risk of oppression', 0.25, 0.95), #0.038\n",
    "                 RealParameter('pc pop atRd2 conflict violence willing2 migrate', 0.2, 0.8), #0.01\n",
    "                 RealParameter('pc pop atR of oppression willing2 migrate', 0.1, 0.6), # 0.018\n",
    "                 RealParameter('pc pop atRd2 disasters willing2 migrate', 0.1, 0.6), # 0.0\n",
    "                 RealParameter('pc pop atRd2 economic or food scarcity willing2 migrate', 0.1, 0.6), # 0.0\n",
    "                 RealParameter('pc pop atR of oppression willing2 migrate', 0.1, 0.6), # 0.0\n",
    "                 RealParameter('fraction of popRd2 conflict violence RWA to migrate trying per year', 0.1, 0.6), # 0.0\n",
    "                 RealParameter('pc overlap in pop atR willing and able2 migrate due to conflict and oppression', 0.1, 0.8), # 0.0\n",
    "                 RealParameter('pc pop atR of conflict violence fysically and financially able to migrate faraway', 0.05, 0.65), # 0.0\n",
    "                 RealParameter('pc pop atR of conflict violence oppression NOT even able to migrate to other country in region', 0.05, 0.6), # 0.0\n",
    "                 RealParameter('pc pop atRd2 economic or food scarcity fysically and financially able to migrate faraway', 0.05, 0.75), # 0.0\n",
    "                 RealParameter('fr extra autonomous development exposure', 0.001, 0.1), # 0.0\n",
    "                 \n",
    "                 RealParameter('fraction of population able to afford advanced transportation high income',0.9,1),\n",
    "                 RealParameter('fraction of population able to afford advanced transportation upper middle income',0.4,0.7),\n",
    "                 RealParameter('fraction of population able to afford advanced transportation lower middle income',0.1,0.4),\n",
    "                 RealParameter('fraction of population able to afford advanced transportation low income',0,0.1),\n",
    "                 \n",
    "                 RealParameter('birth rate scale factor high income',0.5,1.5),\n",
    "                 RealParameter('birth rate scale factor upper middle income',0.5,1.5),\n",
    "                 RealParameter('birth rate scale factor lower middle income',0.5,1.5),\n",
    "                 RealParameter('birth rate scale factor low income',0.5,1.5),\n",
    "                 \n",
    "                 RealParameter('death rate scale factor high income',0.5,1.5),\n",
    "                 RealParameter('death rate scale factor upper middle income',0.5,1.5),\n",
    "                 RealParameter('death rate scale factor lower middle income',0.5,1.5),\n",
    "                 RealParameter('death rate scale factor low income',0.5,1.5),\n",
    "                 \n",
    "                 RealParameter('migration rate scale factor high income',0.2,1.1),\n",
    "                 RealParameter('migration rate scale factor upper middle income',0.2,1.1),\n",
    "                 RealParameter('migration rate scale factor lower middle income',0.2,1.1),\n",
    "                 RealParameter('migration rate scale factor low income',0.2,1.1),\n",
    "                  \n",
    "                 RealParameter('naturalization rate scale factor high income',0.001,0.02),\n",
    "                 RealParameter('naturalization rate scale factor upper middle income',0.001,0.02),\n",
    "                 RealParameter('naturalization rate scale factor lower middle income',0.001,0.02),\n",
    "                 RealParameter('naturalization rate scale factor low income',0.001,0.02),\n",
    "                 \n",
    "                 RealParameter('societal stress influence factor',1,10),\n",
    "                 RealParameter('societal stress threshold pc', 0.4, 0.9), # 0.0\n",
    "                 \n",
    "                 RealParameter('transit weight', 1, 10), # 0.0\n",
    "                 RealParameter('residence weight', 1, 10), # 0.0\n",
    "                 \n",
    "                 RealParameter('interregion migration factor', 0.5, 5), # 0.0\n",
    "                 \n",
    "                 RealParameter('migrant coping capacity growth rate per country scale factor', 0.01, 0.6), # PER COUNTRY\n",
    "                 RealParameter('pc of current coping capacity scale factor', 0.3, 0.9), # PER COUNTRY\n",
    "                 RealParameter('forward migration rate scale factor', 0.1, 0.9), # PER COUNTRY\n",
    "                 RealParameter('fraction of migrants applying in most attractive country scale factor', 0.3,1),# 0.0\n",
    "                 RealParameter('close EU borders threshold', 50000000,100000000),\n",
    "                 RealParameter('close ECA borders threshold', 130000000,250000000),\n",
    "                ]"
   ]
  },
  {
   "cell_type": "code",
   "execution_count": 8,
   "metadata": {
    "collapsed": true
   },
   "outputs": [],
   "source": [
    "outcomes = [TimeSeriesOutcome('total population in model'),\n",
    "           TimeSeriesOutcome('total migrants'),\n",
    "           TimeSeriesOutcome('total migrants in EU[EU]'),\n",
    "           TimeSeriesOutcome('total migrants in ECA[Europe and Central Asia]')]\n"
   ]
  },
  {
   "cell_type": "code",
   "execution_count": 9,
   "metadata": {
    "collapsed": true
   },
   "outputs": [],
   "source": [
    "for country in country_list:\n",
    "    outcomes.append(TimeSeriesOutcome('population to other country['+country+']'))\n",
    "    outcomes.append(TimeSeriesOutcome('total migrants in country['+country+']'))\n",
    "    outcomes.append(TimeSeriesOutcome('population per country['+country+']'))\n",
    "    outcomes.append(TimeSeriesOutcome('total naturalizations['+country+']'))\n",
    "    outcomes.append(TimeSeriesOutcome('returnees['+country+']'))\n",
    "    outcomes.append(TimeSeriesOutcome('internal migration total['+country+']'))\n",
    "    outcomes.append(TimeSeriesOutcome('societal stress in country due to migrants['+country+']'))"
   ]
  },
  {
   "cell_type": "code",
   "execution_count": 10,
   "metadata": {
    "collapsed": true
   },
   "outputs": [],
   "source": [
    "model.uncertainties = uncertainties\n",
    "model.outcomes = outcomes"
   ]
  },
  {
   "cell_type": "markdown",
   "metadata": {},
   "source": [
    "## 4.1 Base Ensemble"
   ]
  },
  {
   "cell_type": "code",
   "execution_count": 11,
   "metadata": {
    "collapsed": true
   },
   "outputs": [],
   "source": [
    "nr_scenarios = 500\n",
    "seed = 50\n",
    "np.random.seed(seed) # fix seed"
   ]
  },
  {
   "cell_type": "code",
   "execution_count": 12,
   "metadata": {
    "scrolled": true
   },
   "outputs": [
    {
     "name": "stderr",
     "output_type": "stream",
     "text": [
      "[MainProcess/INFO] pool started\n",
      "[MainProcess/INFO] performing 500 scenarios * 1 policies * 1 model(s) = 500 experiments\n",
      "[MainProcess/INFO] 50 cases completed\n",
      "[MainProcess/INFO] 100 cases completed\n",
      "[MainProcess/INFO] 150 cases completed\n",
      "[MainProcess/INFO] 200 cases completed\n",
      "[MainProcess/INFO] 250 cases completed\n",
      "[MainProcess/INFO] 300 cases completed\n",
      "[MainProcess/INFO] 350 cases completed\n",
      "[MainProcess/INFO] 400 cases completed\n",
      "[MainProcess/INFO] 450 cases completed\n",
      "[MainProcess/INFO] 500 cases completed\n",
      "[MainProcess/INFO] experiments finished\n",
      "[MainProcess/INFO] terminating pool\n",
      "[SpawnPoolWorker-4/INFO] finalizing\n",
      "[SpawnPoolWorker-2/INFO] finalizing\n",
      "[SpawnPoolWorker-3/INFO] finalizing\n",
      "[SpawnPoolWorker-1/INFO] finalizing\n"
     ]
    },
    {
     "name": "stdout",
     "output_type": "stream",
     "text": [
      "Total time in minutes: 111.57994722596125 -- Time per run in seconds: 13.389593667115351\n"
     ]
    }
   ],
   "source": [
    "start_time = timeit.default_timer()\n",
    "\n",
    "with MultiprocessingEvaluator(model) as evaluator:\n",
    "    policy_results = evaluator.perform_experiments(scenarios=nr_scenarios)# policies=policies\n",
    "\n",
    "elapsed = timeit.default_timer() - start_time\n",
    "\n",
    "print(\"Total time in minutes:\", elapsed/60, \"-- Time per run in seconds:\", elapsed/(nr_scenarios))"
   ]
  },
  {
   "cell_type": "code",
   "execution_count": 13,
   "metadata": {},
   "outputs": [
    {
     "name": "stderr",
     "output_type": "stream",
     "text": [
      "[MainProcess/INFO] results saved successfully to D:\\Migration\\Results\\BaseEnsemble500Scenarios.tar.gz\n"
     ]
    }
   ],
   "source": [
    "## In case you want to save the outputs in a file:\n",
    "\n",
    "save_results(policy_results, r'D:\\Migration\\Results\\BaseEnsemble500Scenarios.tar.gz')"
   ]
  },
  {
   "cell_type": "code",
   "execution_count": null,
   "metadata": {
    "collapsed": true
   },
   "outputs": [],
   "source": [
    "\n",
    "policy_results = load_results( r'D:\\Migration\\Results\\BaseEnsemble500Scenarios.tar.gz')"
   ]
  },
  {
   "cell_type": "code",
   "execution_count": 16,
   "metadata": {
    "collapsed": true
   },
   "outputs": [],
   "source": [
    "## Import specific plotting commands:  \n",
    "import matplotlib.pyplot as plt\n",
    "from ema_workbench.analysis.plotting import lines, plot_lines_with_envelopes \n",
    "from ema_workbench.analysis.plotting_util import KDE, HIST, VIOLIN, BOXPLOT\n",
    "import seaborn as sns\n",
    "import ema_workbench.analysis.pairs_plotting as pairs\n",
    "import ema_workbench.analysis.plotting as emaplt"
   ]
  },
  {
   "cell_type": "code",
   "execution_count": null,
   "metadata": {
    "collapsed": true,
    "scrolled": true
   },
   "outputs": [],
   "source": [
    "%matplotlib inline\n",
    "\n",
    "fig = lines(policy_results, outcomes_to_show=('total population in model'),  density=KDE) #group_by='policy\n",
    "fig[0].savefig(r'Plots\\BaseEnsemble\\total_population_base_ensemble.png')\n",
    "fig = lines(policy_results, outcomes_to_show=('total migrants'),  density=KDE) #group_by='policy\n",
    "fig[0].savefig(r'Plots\\BaseEnsemble\\total_migrants_base_ensemble.png')\n",
    "fig = lines(policy_results, outcomes_to_show=('total migrants in ECA[Europe and Central Asia]'),  density=KDE)\n",
    "fig[0].savefig(r'Plots\\BaseEnsemble\\total_migrantsECA_base_ensemble.png')\n",
    "fig = lines(policy_results, outcomes_to_show=('total migrants in EU[EU]'),  density=KDE)\n",
    "fig[0].savefig(r'Plots\\BaseEnsemble\\total_migrantsEU_base_ensemble.png')\n",
    "\n",
    "for country in country_list:\n",
    "    outcome = 'total migrants in country['+country+']'\n",
    "    fig = lines(policy_results, outcomes_to_show=outcome,  density=KDE)\n",
    "    fig[0].savefig(r\"Plots\\BaseEnsemble\\base_\"+outcome+\".png\")\n",
    "    \n",
    "    outcome = 'population to other country['+country+']'\n",
    "    fig = lines(policy_results, outcomes_to_show=outcome,  density=KDE)\n",
    "    fig[0].savefig(r\"Plots\\BaseEnsemble\\base_\"+outcome+'.png')\n",
    "\n",
    "    outcome='population per country['+country+']'\n",
    "    fig = lines(policy_results, outcomes_to_show=outcome,  density=KDE)\n",
    "    fig[0].savefig(r\"Plots\\BaseEnsemble\\base_\"+outcome+'.png')\n",
    "    \n",
    "    \n",
    "    outcome='total naturalizations['+country+']'\n",
    "    fig = lines(policy_results, outcomes_to_show=outcome,  density=KDE)\n",
    "    fig[0].savefig(r\"Plots\\BaseEnsemble\\base_\"+outcome+'.png')\n",
    "    \n",
    "    outcome='returnees['+country+']'\n",
    "    fig = lines(policy_results, outcomes_to_show=outcome,  density=KDE)\n",
    "    fig[0].savefig(r\"Plots\\BaseEnsemble\\base_\"+outcome+'.png')\n",
    "    \n",
    "    outcome='internal migration total['+country+']'\n",
    "    fig = lines(policy_results, outcomes_to_show=outcome,  density=KDE)\n",
    "    fig[0].savefig(r\"Plots\\BaseEnsemble\\base_\"+outcome+'.png')\n",
    "    \n",
    "    outcome='societal stress in country due to migrants['+country+']'\n",
    "    fig = lines(policy_results, outcomes_to_show=outcome,  density=KDE)\n",
    "    fig[0].savefig(r\"Plots\\BaseEnsemble\\base_\"+outcome+'.png')\n",
    "    plt.close('all')"
   ]
  },
  {
   "cell_type": "code",
   "execution_count": null,
   "metadata": {
    "collapsed": true
   },
   "outputs": [],
   "source": [
    "fig[0]"
   ]
  },
  {
   "cell_type": "code",
   "execution_count": null,
   "metadata": {
    "collapsed": true
   },
   "outputs": [],
   "source": [
    "from ema_workbench.analysis import pairs_plotting"
   ]
  },
  {
   "cell_type": "code",
   "execution_count": null,
   "metadata": {
    "collapsed": true
   },
   "outputs": [],
   "source": [
    "# fig, axes = pairs_plotting.pairs_scatter(policy_results, legend=False) # don't run"
   ]
  },
  {
   "cell_type": "code",
   "execution_count": null,
   "metadata": {
    "collapsed": true
   },
   "outputs": [],
   "source": [
    "!pip install mpldatacursor"
   ]
  },
  {
   "cell_type": "code",
   "execution_count": null,
   "metadata": {
    "collapsed": true
   },
   "outputs": [],
   "source": [
    "experiments, outcomes = policy_results"
   ]
  },
  {
   "cell_type": "code",
   "execution_count": null,
   "metadata": {
    "collapsed": true
   },
   "outputs": [],
   "source": [
    "outcomes_list = ['total population in model', 'total migrants', 'total migrants in EU[EU]', \"total migrants in country[Netherlands]\", \"total migrants in country[Turkey]\"]"
   ]
  },
  {
   "cell_type": "code",
   "execution_count": null,
   "metadata": {
    "collapsed": true
   },
   "outputs": [],
   "source": [
    "outcomes.keys()"
   ]
  },
  {
   "cell_type": "code",
   "execution_count": null,
   "metadata": {
    "collapsed": true
   },
   "outputs": [],
   "source": [
    "outcomes_feature_scoring = {}\n",
    "\n",
    "for i in outcomes_list:\n",
    "    outcomes_feature_scoring[i]=outcomes[i]"
   ]
  },
  {
   "cell_type": "code",
   "execution_count": null,
   "metadata": {
    "collapsed": true,
    "scrolled": false
   },
   "outputs": [],
   "source": [
    "from ema_workbench.analysis import feature_scoring\n",
    "from matplotlib.colors import LogNorm\n",
    "import matplotlib.pyplot as plt\n",
    "import seaborn as sns\n",
    "\n",
    "fig,ax = plt.subplots(figsize=(10,10))\n",
    "\n",
    "\n",
    "x=experiments\n",
    "y=outcomes_feature_scoring\n",
    "\n",
    "fs = feature_scoring.get_feature_scores_all(x,y)\n",
    "fs=fs.drop('model').drop('policy')\n",
    "sns.heatmap(fs, cmap='viridis', norm=LogNorm(vmin=0, vmax=1), annot=True)\n",
    "plt.savefig('GlobalPoliciesFeatureScoring.png', bbox_inches='tight')"
   ]
  },
  {
   "cell_type": "markdown",
   "metadata": {},
   "source": [
    "## 4.2 Global Policies"
   ]
  },
  {
   "cell_type": "code",
   "execution_count": null,
   "metadata": {
    "collapsed": true
   },
   "outputs": [],
   "source": [
    "policies = [Policy('None', **{\"SWITCH low income shelter increase policy\":0,\n",
    "                                'SWITCH high income shelter increase policy':0}),\n",
    "            Policy('Low', **{'SWITCH low income shelter increase policy':1,\n",
    "                                'SWITCH high income shelter increase policy':0}),\n",
    "            Policy('High', **{'SWITCH low income shelter increase policy':0,\n",
    "                                'SWITCH high income shelter increase policy':1}),\n",
    "            Policy('LowHigh', **{'SWITCH low income shelter increase policy':1,\n",
    "                                'SWITCH high income shelter increase policy':1})]"
   ]
  },
  {
   "cell_type": "code",
   "execution_count": null,
   "metadata": {
    "collapsed": true
   },
   "outputs": [],
   "source": [
    "nr_scenarios = 100\n",
    "seed = 50\n",
    "np.random.seed(seed) # fix seed"
   ]
  },
  {
   "cell_type": "code",
   "execution_count": null,
   "metadata": {
    "collapsed": true,
    "scrolled": false
   },
   "outputs": [],
   "source": [
    "start_time = timeit.default_timer()\n",
    "\n",
    "with MultiprocessingEvaluator(model) as evaluator:\n",
    "    policy_results = evaluator.perform_experiments(scenarios=nr_scenarios, policies = policies)# policies=policies\n",
    "\n",
    "elapsed = timeit.default_timer() - start_time\n",
    "\n",
    "print(\"Total time in minutes:\", elapsed/60, \"-- Time per run in seconds:\", elapsed/(nr_scenarios*len(policies)))"
   ]
  },
  {
   "cell_type": "code",
   "execution_count": null,
   "metadata": {
    "collapsed": true
   },
   "outputs": [],
   "source": [
    "## In case you want to save the outputs in a file:\n",
    "\n",
    "save_results(policy_results, r'D:\\Migration\\Results\\GlobalPolicies100scenarios.tar.gz')"
   ]
  },
  {
   "cell_type": "code",
   "execution_count": null,
   "metadata": {
    "collapsed": true,
    "scrolled": true
   },
   "outputs": [],
   "source": [
    "fig = lines(policy_results, outcomes_to_show=('total population in model'),  density=KDE,group_by='policy') #group_by='policy\n",
    "fig[0].savefig(r'Plots\\GlobalPolicies\\total_population_global.png')\n",
    "fig = lines(policy_results, outcomes_to_show=('total migrants'),  density=KDE,group_by='policy') #group_by='policy\n",
    "fig[0].savefig(r'Plots\\GlobalPolicies\\total_migrants_global.png')\n",
    "fig = lines(policy_results, outcomes_to_show=('total migrants in ECA[Europe and Central Asia]'),  density=KDE,group_by='policy')\n",
    "fig[0].savefig(r'Plots\\GlobalPolicies\\total_migrantsECA_global.png')\n",
    "fig = lines(policy_results, outcomes_to_show=('total migrants in EU[EU]'),  density=KDE,group_by='policy')\n",
    "fig[0].savefig(r'Plots\\GlobalPolicies\\total_migrantsEU_global.png')"
   ]
  },
  {
   "cell_type": "code",
   "execution_count": null,
   "metadata": {
    "collapsed": true,
    "scrolled": false
   },
   "outputs": [],
   "source": [
    "%matplotlib inline\n",
    "\n",
    "fig1 = lines(policy_results, outcomes_to_show=('total population in model'),  density=KDE, group_by='policy') #group_by='policy\n",
    "fig2 = lines(policy_results, outcomes_to_show=('total migrants'),  density=KDE, group_by='policy') #group_by='policy\n",
    "fig1 = lines(policy_results, outcomes_to_show=('total migrants in ECA[Europe and Central Asia]'),  density=KDE, group_by='policy')\n",
    "fig1 = lines(policy_results, outcomes_to_show=('total migrants in EU[EU]'),  density=KDE, group_by='policy')\n",
    "fig1 = lines(policy_results, outcomes_to_show=('total migrants in country[Germany]'), density=KDE, group_by='policy')\n",
    "fig1 = lines(policy_results, outcomes_to_show=('total migrants in country[Turkey]'), density=KDE, group_by='policy')\n",
    "fig1 = lines(policy_results, outcomes_to_show=('total migrants in country[Morocco]'), density=KDE, group_by='policy')\n",
    "fig1 = lines(policy_results, outcomes_to_show=('total migrants in country[Zimbabwe]'), density=KDE, group_by='policy')\n",
    "fig1 = lines(policy_results, outcomes_to_show=('total migrants in country[Guinea]'), density=KDE, group_by='policy')\n",
    "fig1 = lines(policy_results, outcomes_to_show=('total migrants in country[Greece]'), density=KDE, group_by='policy')\n",
    "fig1 = lines(policy_results, outcomes_to_show=('total migrants in country[Spain]'), density=KDE, group_by='policy')\n",
    "fig1 = lines(policy_results, outcomes_to_show=('total migrants in country[Netherlands]'), density=KDE, group_by='policy')\n",
    "fig1 = lines(policy_results, outcomes_to_show=('total migrants in country[Luxembourg]'), density=KDE, group_by='policy')"
   ]
  },
  {
   "cell_type": "code",
   "execution_count": null,
   "metadata": {
    "collapsed": true
   },
   "outputs": [],
   "source": [
    "# policy_results = load_results(r'D:\\Migration\\Results\\RegionalPolicies.tar.gz')"
   ]
  },
  {
   "cell_type": "code",
   "execution_count": null,
   "metadata": {
    "collapsed": true
   },
   "outputs": [],
   "source": [
    "import tarfile\n",
    "tar = tarfile.open(r'D:\\Migration\\Results\\GlobalPolicies.tar.gz', \"r:gz\")\n",
    "for member in tar.getmembers():\n",
    "    f = tar.extractfile(member)\n",
    "    if f is not None:\n",
    "        content = f.read()"
   ]
  },
  {
   "cell_type": "code",
   "execution_count": null,
   "metadata": {
    "collapsed": true
   },
   "outputs": [],
   "source": [
    "content"
   ]
  },
  {
   "cell_type": "markdown",
   "metadata": {},
   "source": [
    "## 4.3 Regional Policies"
   ]
  },
  {
   "cell_type": "code",
   "execution_count": null,
   "metadata": {
    "collapsed": true
   },
   "outputs": [],
   "source": [
    "policy_results = None"
   ]
  },
  {
   "cell_type": "code",
   "execution_count": null,
   "metadata": {
    "collapsed": true
   },
   "outputs": [],
   "source": [
    "policies = [Policy('None', **{\"SWITCH close borders\":0,\n",
    "                              'SWITCH close borders EU':0,\n",
    "                              'SWITCH close borders Europe and Central Asia':0 }),\n",
    "            Policy('EU', **{\"SWITCH close borders\":1,\n",
    "                            'SWITCH close borders EU':1,\n",
    "                            'SWITCH close borders Europe and Central Asia':0 }),\n",
    "           ]\n",
    "\n",
    "# Policy('ECA', **{\"SWITCH close borders\":1,\n",
    "#                              'SWITCH close borders EU':0,\n",
    "#                              'SWITCH close borders Europe and Central Asia':1 }"
   ]
  },
  {
   "cell_type": "code",
   "execution_count": null,
   "metadata": {
    "collapsed": true
   },
   "outputs": [],
   "source": [
    "nr_scenarios = 100\n",
    "seed = 50\n",
    "np.random.seed(seed) # fix seed"
   ]
  },
  {
   "cell_type": "code",
   "execution_count": null,
   "metadata": {
    "collapsed": true
   },
   "outputs": [],
   "source": [
    "start_time = timeit.default_timer()\n",
    "\n",
    "with MultiprocessingEvaluator(model) as evaluator:\n",
    "    policy_results = evaluator.perform_experiments(scenarios=nr_scenarios, policies = policies)# policies=policies\n",
    "\n",
    "elapsed = timeit.default_timer() - start_time\n",
    "\n",
    "print(\"Total time in minutes:\", elapsed/60, \"-- Time per run in seconds:\", elapsed/(nr_scenarios*len(policies)))"
   ]
  },
  {
   "cell_type": "code",
   "execution_count": null,
   "metadata": {
    "collapsed": true
   },
   "outputs": [],
   "source": [
    "## In case you want to save the outputs in a file:\n",
    "\n",
    "save_results(policy_results, r'D:\\Migration\\Results\\RegionalPolicies10Scenarios.tar.gz')"
   ]
  },
  {
   "cell_type": "code",
   "execution_count": null,
   "metadata": {
    "collapsed": true
   },
   "outputs": [],
   "source": [
    "%matplotlib inline\n",
    "\n",
    "fig1 = lines(policy_results, outcomes_to_show=('total population in model'),  density=KDE, group_by='policy') #group_by='policy\n",
    "fig2 = lines(policy_results, outcomes_to_show=('total migrants'),  density=KDE, group_by='policy') #group_by='policy\n",
    "fig1 = lines(policy_results, outcomes_to_show=('total migrants in ECA[Europe and Central Asia]'),  density=KDE, group_by='policy')\n",
    "fig1 = lines(policy_results, outcomes_to_show=('total migrants in EU[EU]'),  density=KDE, group_by='policy')\n",
    "fig1 = lines(policy_results, outcomes_to_show=('total migrants in country[Germany]'), density=KDE, group_by='policy')\n",
    "fig1 = lines(policy_results, outcomes_to_show=('total migrants in country[Turkey]'), density=KDE, group_by='policy')\n",
    "fig1 = lines(policy_results, outcomes_to_show=('total migrants in country[Morocco]'), density=KDE, group_by='policy')\n",
    "fig1 = lines(policy_results, outcomes_to_show=('total migrants in country[Zimbabwe]'), density=KDE, group_by='policy')\n",
    "fig1 = lines(policy_results, outcomes_to_show=('total migrants in country[Guinea]'), density=KDE, group_by='policy')\n",
    "fig1 = lines(policy_results, outcomes_to_show=('total migrants in country[Greece]'), density=KDE, group_by='policy')\n",
    "fig1 = lines(policy_results, outcomes_to_show=('total migrants in country[Spain]'), density=KDE, group_by='policy')\n",
    "fig1 = lines(policy_results, outcomes_to_show=('total migrants in country[Netherlands]'), density=KDE, group_by='policy')\n",
    "fig1 = lines(policy_results, outcomes_to_show=('total migrants in country[Luxembourg]'), density=KDE, group_by='policy')"
   ]
  },
  {
   "cell_type": "markdown",
   "metadata": {},
   "source": [
    "## 4.4 National Policies"
   ]
  },
  {
   "cell_type": "code",
   "execution_count": 11,
   "metadata": {
    "collapsed": true
   },
   "outputs": [],
   "source": [
    "policies = [Policy('None', **{\"COUNTRY POLICY forward migration rate scale factor[Netherlands]\":0.01, #increase forward migration\n",
    "                                'COUNTRY POLICY migrant coping capacity growth rate[Netherlands]':0, #increase factor\n",
    "                             'COUNTRY POLICY manage societal stress[Netherlands]':1}), #downscaling\n",
    "            Policy('Stress', **{\"COUNTRY POLICY forward migration rate scale factor[Netherlands]\":0.01, #increase forward migration\n",
    "                                'COUNTRY POLICY migrant coping capacity growth rate[Netherlands]':0, #increase factor\n",
    "                             'COUNTRY POLICY manage societal stress[Netherlands]':0.2}),\n",
    "            Policy('Coping', **{\"COUNTRY POLICY forward migration rate scale factor[Netherlands]\":0.01, #increase forward migration\n",
    "                                'COUNTRY POLICY migrant coping capacity growth rate[Netherlands]':0.1, #increase factor\n",
    "                             'COUNTRY POLICY manage societal stress[Netherlands]':1}),\n",
    "            Policy('Forward', **{\"COUNTRY POLICY forward migration rate scale factor[Netherlands]\":0.9, #increase forward migration\n",
    "                                'COUNTRY POLICY migrant coping capacity growth rate[Netherlands]':0, #increase factor\n",
    "                             'COUNTRY POLICY manage societal stress[Netherlands]':1})]"
   ]
  },
  {
   "cell_type": "code",
   "execution_count": 12,
   "metadata": {
    "collapsed": true
   },
   "outputs": [],
   "source": [
    "nr_scenarios = 100\n",
    "seed = 50\n",
    "np.random.seed(seed) # fix seed"
   ]
  },
  {
   "cell_type": "code",
   "execution_count": 13,
   "metadata": {},
   "outputs": [
    {
     "name": "stderr",
     "output_type": "stream",
     "text": [
      "[MainProcess/INFO] pool started\n",
      "[MainProcess/INFO] performing 100 scenarios * 4 policies * 1 model(s) = 400 experiments\n",
      "[MainProcess/INFO] 40 cases completed\n",
      "[MainProcess/INFO] 80 cases completed\n",
      "[MainProcess/INFO] 120 cases completed\n",
      "[MainProcess/INFO] 160 cases completed\n",
      "[MainProcess/INFO] 200 cases completed\n",
      "[MainProcess/INFO] 240 cases completed\n",
      "[MainProcess/INFO] 280 cases completed\n",
      "[MainProcess/INFO] 320 cases completed\n",
      "[MainProcess/INFO] 360 cases completed\n",
      "[MainProcess/INFO] 400 cases completed\n",
      "[MainProcess/INFO] experiments finished\n",
      "[MainProcess/INFO] terminating pool\n",
      "[SpawnPoolWorker-1/INFO] finalizing\n",
      "[SpawnPoolWorker-3/INFO] finalizing\n",
      "[SpawnPoolWorker-4/INFO] finalizing\n",
      "[SpawnPoolWorker-2/INFO] finalizing\n"
     ]
    },
    {
     "name": "stdout",
     "output_type": "stream",
     "text": [
      "Total time in minutes: 95.08389314211 -- Time per run in seconds: 14.2625839713165\n"
     ]
    }
   ],
   "source": [
    "start_time = timeit.default_timer()\n",
    "\n",
    "with MultiprocessingEvaluator(model) as evaluator:\n",
    "    policy_results = evaluator.perform_experiments(scenarios=nr_scenarios, policies = policies)# policies=policies\n",
    "\n",
    "elapsed = timeit.default_timer() - start_time\n",
    "\n",
    "print(\"Total time in minutes:\", elapsed/60, \"-- Time per run in seconds:\", elapsed/(nr_scenarios*len(policies)))"
   ]
  },
  {
   "cell_type": "code",
   "execution_count": 14,
   "metadata": {},
   "outputs": [
    {
     "name": "stderr",
     "output_type": "stream",
     "text": [
      "[MainProcess/INFO] results saved successfully to D:\\Migration\\Results\\NationalPolicies10Scenarios.tar.gz\n"
     ]
    }
   ],
   "source": [
    "## In case you want to save the outputs in a file:\n",
    "\n",
    "save_results(policy_results, r'D:\\Migration\\Results\\NationalPolicies10Scenarios.tar.gz')"
   ]
  },
  {
   "cell_type": "code",
   "execution_count": 17,
   "metadata": {
    "collapsed": true
   },
   "outputs": [],
   "source": [
    "fig = lines(policy_results, outcomes_to_show=('total population in model'),  density=KDE,group_by='policy') #group_by='policy\n",
    "fig[0].savefig(r'Plots\\NationalPolicies\\total_population_national.png')\n",
    "fig = lines(policy_results, outcomes_to_show=('total migrants'),  density=KDE,group_by='policy') #group_by='policy\n",
    "fig[0].savefig(r'Plots\\NationalPolicies\\total_migrants_national.png')\n",
    "fig = lines(policy_results, outcomes_to_show=('total migrants in ECA[Europe and Central Asia]'),  density=KDE,group_by='policy')\n",
    "fig[0].savefig(r'Plots\\NationalPolicies\\total_migrantsECA_national.png')\n",
    "fig = lines(policy_results, outcomes_to_show=('total migrants in EU[EU]'),  density=KDE,group_by='policy')\n",
    "fig[0].savefig(r'Plots\\NationalPolicies\\total_migrantsEU_national.png')"
   ]
  },
  {
   "cell_type": "code",
   "execution_count": null,
   "metadata": {
    "collapsed": true
   },
   "outputs": [],
   "source": [
    "%matplotlib inline\n",
    "\n",
    "fig1 = lines(policy_results, outcomes_to_show=('total population in model'),  density=KDE, group_by='policy') #group_by='policy\n",
    "fig2 = lines(policy_results, outcomes_to_show=('total migrants'),  density=KDE, group_by='policy') #group_by='policy\n",
    "fig1 = lines(policy_results, outcomes_to_show=('total migrants in ECA[Europe and Central Asia]'),  density=KDE, group_by='policy')\n",
    "fig1 = lines(policy_results, outcomes_to_show=('total migrants in EU[EU]'),  density=KDE, group_by='policy')\n",
    "fig1 = lines(policy_results, outcomes_to_show=('total migrants in country[Germany]'), density=KDE, group_by='policy')\n",
    "fig1 = lines(policy_results, outcomes_to_show=('total migrants in country[Turkey]'), density=KDE, group_by='policy')\n",
    "fig1 = lines(policy_results, outcomes_to_show=('total migrants in country[Morocco]'), density=KDE, group_by='policy')\n",
    "fig1 = lines(policy_results, outcomes_to_show=('total migrants in country[Zimbabwe]'), density=KDE, group_by='policy')\n",
    "fig1 = lines(policy_results, outcomes_to_show=('total migrants in country[Guinea]'), density=KDE, group_by='policy')\n",
    "fig1 = lines(policy_results, outcomes_to_show=('total migrants in country[Greece]'), density=KDE, group_by='policy')\n",
    "fig1 = lines(policy_results, outcomes_to_show=('total migrants in country[Spain]'), density=KDE, group_by='policy')\n",
    "fig1 = lines(policy_results, outcomes_to_show=('total migrants in country[Netherlands]'), density=KDE, group_by='policy')\n",
    "fig1 = lines(policy_results, outcomes_to_show=('total migrants in country[Luxembourg]'), density=KDE, group_by='policy')"
   ]
  },
  {
   "cell_type": "code",
   "execution_count": null,
   "metadata": {
    "collapsed": true
   },
   "outputs": [],
   "source": []
  },
  {
   "cell_type": "code",
   "execution_count": null,
   "metadata": {
    "collapsed": true
   },
   "outputs": [],
   "source": []
  },
  {
   "cell_type": "markdown",
   "metadata": {},
   "source": [
    "## 5. Visualization of the results"
   ]
  },
  {
   "cell_type": "code",
   "execution_count": null,
   "metadata": {
    "collapsed": true
   },
   "outputs": [],
   "source": [
    "## Import specific plotting commands:  \n",
    "import matplotlib.pyplot as plt\n",
    "from ema_workbench.analysis.plotting import lines, plot_lines_with_envelopes \n",
    "from ema_workbench.analysis.plotting_util import KDE, HIST, VIOLIN, BOXPLOT\n",
    "import seaborn as sns\n",
    "import ema_workbench.analysis.pairs_plotting as pairs\n",
    "import ema_workbench.analysis.plotting as emaplt"
   ]
  },
  {
   "cell_type": "code",
   "execution_count": null,
   "metadata": {
    "collapsed": true
   },
   "outputs": [],
   "source": [
    "experiments, outcomes = policy_results"
   ]
  },
  {
   "cell_type": "code",
   "execution_count": null,
   "metadata": {
    "collapsed": true
   },
   "outputs": [],
   "source": [
    "for outcome in outcomes.keys():\n",
    "    print(outcome)"
   ]
  },
  {
   "cell_type": "markdown",
   "metadata": {},
   "source": [
    "### Specified Policies"
   ]
  },
  {
   "cell_type": "code",
   "execution_count": null,
   "metadata": {
    "collapsed": true,
    "scrolled": true
   },
   "outputs": [],
   "source": [
    "%matplotlib inline\n",
    "\n",
    "fig1 = lines(policy_results, outcomes_to_show=('total population in model'), group_by='policy',  density=KDE) #group_by='policy\n",
    "fig1 = lines(policy_results, outcomes_to_show=('total migrants in country[Germany]'),group_by='policy', density=KDE)\n",
    "fig1 = lines(policy_results, outcomes_to_show=('total migrants in country[Turkey]'),group_by='policy', density=KDE)\n",
    "fig1 = lines(policy_results, outcomes_to_show=('total migrants in country[Morocco]'),group_by='policy', density=KDE)\n",
    "fig1 = lines(policy_results, outcomes_to_show=('total migrants in country[Zimbabwe]'),group_by='policy', density=KDE)\n",
    "fig1 = lines(policy_results, outcomes_to_show=('total migrants in country[Guinea]'),group_by='policy', density=KDE)\n",
    "fig1 = lines(policy_results, outcomes_to_show=('total migrants in country[Greece]'),group_by='policy', density=KDE)\n",
    "fig1 = lines(policy_results, outcomes_to_show=('total migrants in country[Spain]'),group_by='policy', density=KDE)\n",
    "fig1 = lines(policy_results, outcomes_to_show=('total migrants in country[Netherlands]'),group_by='policy', density=KDE)\n",
    "fig2 = lines(policy_results, outcomes_to_show=('total migrants'),group_by='policy',  density=KDE) #group_by='policy\n",
    "\n",
    "# fig2 = lines(policy_results, outcomes_to_show=('pop per region[regionEast Asia and Pacific]'), group_by='policy', density=KDE)"
   ]
  },
  {
   "cell_type": "code",
   "execution_count": null,
   "metadata": {
    "collapsed": true,
    "scrolled": true
   },
   "outputs": [],
   "source": [
    "fig2 = lines(policy_results, outcomes_to_show=('total naturalizations[Turkey]'),group_by='policy',  density=KDE) #group_by='policy\n",
    "fig2 = lines(policy_results, outcomes_to_show=('total naturalizations[Japan]'),group_by='policy',  density=KDE) #group_by='policy\n",
    "fig2 = lines(policy_results, outcomes_to_show=('total naturalizations[Australia]'),group_by='policy',  density=KDE) #group_by='policy\n",
    "fig2 = lines(policy_results, outcomes_to_show=('total naturalizations[South Africa]'),group_by='policy',  density=KDE) #group_by='policy\n"
   ]
  },
  {
   "cell_type": "code",
   "execution_count": null,
   "metadata": {
    "collapsed": true,
    "scrolled": true
   },
   "outputs": [],
   "source": [
    "fig2 = lines(policy_results, outcomes_to_show=('total naturalizations[Guinea]'),group_by='policy',  density=KDE) #group_by='policy\n",
    "fig2 = lines(policy_results, outcomes_to_show=('total naturalizations[Ethiopia]'),group_by='policy',  density=KDE) #group_by='policy\n",
    "fig2 = lines(policy_results, outcomes_to_show=('total naturalizations[India]'),group_by='policy',  density=KDE) #group_by='policy\n",
    "fig2 = lines(policy_results, outcomes_to_show=('total naturalizations[Thailand]'),group_by='policy',  density=KDE) #group_by='policy\n",
    "fig2 = lines(policy_results, outcomes_to_show=('total naturalizations[Bolivia]'),group_by='policy',  density=KDE) #group_by='policy\n"
   ]
  },
  {
   "cell_type": "code",
   "execution_count": null,
   "metadata": {
    "collapsed": true
   },
   "outputs": [],
   "source": [
    "experiments, outcomes = policy_results"
   ]
  },
  {
   "cell_type": "code",
   "execution_count": null,
   "metadata": {
    "collapsed": true
   },
   "outputs": [],
   "source": [
    "germany_outcomes = {k:v for k,v in outcomes.items() if 'migrants in destination country[Germany,' in k}"
   ]
  },
  {
   "cell_type": "code",
   "execution_count": null,
   "metadata": {
    "collapsed": true,
    "scrolled": true
   },
   "outputs": [],
   "source": [
    "germany_outcomes.keys()"
   ]
  },
  {
   "cell_type": "code",
   "execution_count": null,
   "metadata": {
    "collapsed": true,
    "scrolled": false
   },
   "outputs": [],
   "source": [
    "country_list=['Germany', 'Turkey', 'Uganda', 'United States', 'Argentina', 'China', 'Australia']\n",
    "variable = 'migrants in destination country'\n",
    "\n",
    "for country in country_list:\n",
    "    x=pd.DataFrame(index=[country])\n",
    "    country_outcomes = {k:v for k,v in outcomes.items() if variable+'['+country+',' in k}\n",
    "    for origin in country_outcomes.keys():\n",
    "        if country_outcomes[origin].mean()>50000:\n",
    "            origin_country = origin.strip('migrants in destination country['+country+',').strip(']')\n",
    "            x[origin_country]=country_outcomes[origin].mean()\n",
    "    x.plot.bar(title = 'Migrants in '+country+' by Country of Origin', colormap='viridis').legend(bbox_to_anchor=(1, 1),  ncol=2)       "
   ]
  },
  {
   "cell_type": "code",
   "execution_count": null,
   "metadata": {
    "collapsed": true,
    "scrolled": true
   },
   "outputs": [],
   "source": [
    "x.plot.bar(title = 'Migrants in Germany by Country of Origin').legend(bbox_to_anchor=(1, 1),  ncol=2)\n",
    "\n"
   ]
  },
  {
   "cell_type": "code",
   "execution_count": null,
   "metadata": {
    "collapsed": true
   },
   "outputs": [],
   "source": [
    "list(x.columns)"
   ]
  },
  {
   "cell_type": "code",
   "execution_count": null,
   "metadata": {
    "collapsed": true
   },
   "outputs": [],
   "source": [
    "help(plotly.offline.iplot)"
   ]
  },
  {
   "cell_type": "code",
   "execution_count": null,
   "metadata": {
    "collapsed": true
   },
   "outputs": [],
   "source": [
    "outcomes.keys()"
   ]
  }
 ],
 "metadata": {
  "kernelspec": {
   "display_name": "Python 2",
   "language": "python",
   "name": "python2"
  },
  "language_info": {
   "codemirror_mode": {
    "name": "ipython",
    "version": 2
   },
   "file_extension": ".py",
   "mimetype": "text/x-python",
   "name": "python",
   "nbconvert_exporter": "python",
   "pygments_lexer": "ipython2",
   "version": "2.7.15"
  }
 },
 "nbformat": 4,
 "nbformat_minor": 2
}
