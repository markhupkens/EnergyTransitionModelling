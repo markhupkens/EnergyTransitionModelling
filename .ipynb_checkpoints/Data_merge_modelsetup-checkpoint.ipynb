{
 "cells": [
  {
   "cell_type": "code",
   "execution_count": 4,
   "metadata": {},
   "outputs": [],
   "source": [
    "import pandas as pd\n",
    "import numpy as np\n",
    "# from data_prep.py import "
   ]
  },
  {
   "cell_type": "markdown",
   "metadata": {},
   "source": [
    "# Building stock data on house-level (BAG) \n",
    "\n",
    "\n",
    "\n",
    "This notebook uses the following datasets to merge ep-online(BAG) data with klimaatmonitordata:\n",
    "- BAG data per house, including buildingtypes, retrieved from: [eponline](https://ep-online.nl/ep-online/) \n",
    "- Energy data per municipality, retrieved from: [klimaatmonitor](https://klimaatmonitor.databank.nl/Jive)\n",
    "<br>\n",
    "@author: Mark Hupkens\n",
    "last edit: 13-05-2019\n",
    "\n",
    "All code available on [github repo](https://github.com/markhupkens/EnergyTransitionModelling)\n",
    "\n",
    "> __To do (16-05):__\n",
    "1. fix column naming issue on import in vensim: add sheet name to column variables.\n",
    "2. Check length of variables and their mapping --> buurten have more wijken as mapping than wijken have entities (see modelfix file)\n",
    "3. Merge df_veh and df_solar to final dataframe"
   ]
  },
  {
   "cell_type": "code",
   "execution_count": 5,
   "metadata": {
    "scrolled": false
   },
   "outputs": [],
   "source": [
    "'''Import Data'''\n",
    "\n",
    "# BAG data\n",
    "df = pd.read_csv(\"D:/markhupkens/Dropbox/EnTransitionNL/0. Data/masterdf.csv\", error_bad_lines=False, sep =';') # handled data from https://www.rvo.nl/sites/default/files/2019/01/Voorlopige_labels_okt2018.zip\n",
    "\n",
    "# Energy Data\n",
    "df_energy_buurt = pd.read_excel(\"D:/markhupkens/Dropbox/EnTransitionNL/0. Data/Klimaatmonitor (energieverbruik , stadsverwarming, pv - Buurten,wijken en gemeenten 2017).xls\",sheet_name='Buurt')\n",
    "df_energy_gemeente = pd.read_excel(\"D:/markhupkens/Dropbox/EnTransitionNL/0. Data/Klimaatmonitor (energieverbruik , stadsverwarming, pv - Buurten,wijken en gemeenten 2017).xls\",sheet_name='Gemeente')\n",
    "df_energy_wijk = pd.read_excel(\"D:/markhupkens/Dropbox/EnTransitionNL/0. Data/Klimaatmonitor (energieverbruik , stadsverwarming, pv - Buurten,wijken en gemeenten 2017).xls\",sheet_name='Wijk')\n",
    "\n",
    "# Replace string values with nan value 0.424\n",
    "df_energy_buurt.replace(to_replace='?',value=0.4242,inplace=True)\n",
    "df_energy_buurt.replace(to_replace='-',value=0.4242,inplace=True)\n",
    "\n",
    "df_energy_gemeente.replace(to_replace='?',value=0.4242,inplace=True)\n",
    "df_energy_gemeente.replace(to_replace='-',value=0.4242,inplace=True)\n",
    "\n",
    "df_energy_wijk.replace(to_replace='?',value=0.4242,inplace=True)\n",
    "df_energy_wijk.replace(to_replace='-',value=0.4242,inplace=True)"
   ]
  },
  {
   "cell_type": "markdown",
   "metadata": {},
   "source": [
    "### CHECK OUT NEW DATA\n",
    "1. [Solar PV data per neighbourhood (CBS)](https://opendata.cbs.nl/statline/portal.html?_la=nl&_catalog=CBS&tableId=84517NED&_theme=287)\n",
    "2. on chargingpoints (private)\n",
    "3. [FEV and PHEV data on low scale](https://klimaatmonitor.databank.nl/Jive?workspace_guid=b341f460-f6d7-4c47-b74e-808f0e32e096)\n",
    "4. [CBS data on vehicles per zipcode](https://opendata.cbs.nl/statline/portal.html?_la=nl&_catalog=CBS&tableId=37209hvv&_theme=439)"
   ]
  },
  {
   "cell_type": "markdown",
   "metadata": {},
   "source": [
    "### 1. Solar PV data"
   ]
  },
  {
   "cell_type": "code",
   "execution_count": 5,
   "metadata": {},
   "outputs": [],
   "source": [
    "'''1. Solar PV per neighborhood'''\n",
    "\n",
    "# Solar PV data, url: https://www.cbs.nl/nl-nl/nieuws/2019/17/vermogen-zonnepanelen-meer-dan-de-helft-toegenomen\n",
    "df_solar = pd.read_csv(\"D:/markhupkens/Dropbox/EnTransitionNL/0. Data/Zonnestroom__wijken_en_buurten__2017_16052019_130403.csv\", sep=';', error_bad_lines=False)\n",
    "\n",
    "# clean data\n",
    "df_solar['Regioaanduiding/Soort regio (omschrijving)'] = df_solar['Regioaanduiding/Soort regio (omschrijving)'].str.split(\" \").str[0]\n",
    "\n",
    "# Select levels\n",
    "df_solar_buurt = df_solar.loc[df_solar['Regioaanduiding/Soort regio (omschrijving)']=='Buurt']\n",
    "df_solar_wijk = df_solar.loc[df_solar['Regioaanduiding/Soort regio (omschrijving)']=='Wijk']\n",
    "df_solar_gem = df_solar.loc[df_solar['Regioaanduiding/Soort regio (omschrijving)']=='Gemeente']"
   ]
  },
  {
   "cell_type": "code",
   "execution_count": 107,
   "metadata": {
    "scrolled": false
   },
   "outputs": [
    {
     "data": {
      "text/plain": [
       "20.05519227308177"
      ]
     },
     "execution_count": 107,
     "metadata": {},
     "output_type": "execute_result"
    }
   ],
   "source": [
    "(len(df_solar.loc[np.isnan(df_solar['Aantal installaties bij woningen (aantal)'])==True])/len(df_solar))*100"
   ]
  },
  {
   "cell_type": "markdown",
   "metadata": {},
   "source": [
    "### 2. Chargingpoints data (private)"
   ]
  },
  {
   "cell_type": "code",
   "execution_count": null,
   "metadata": {},
   "outputs": [],
   "source": []
  },
  {
   "cell_type": "markdown",
   "metadata": {},
   "source": [
    "### 3. FEV and PHEV"
   ]
  },
  {
   "cell_type": "code",
   "execution_count": 122,
   "metadata": {},
   "outputs": [],
   "source": [
    "''' FEV and PHEV Data'''\n",
    "\n",
    "df_fev = pd.read_excel('D:/markhupkens/Dropbox/EnTransitionNL/0. Data/Klimaatmonitor - Aantal geregistreerde  EV- PHEV2019 - Postcodes.xls',sheet_name='Auto s voertuigen 2019 Postcode')\n",
    "df_voertuig = pd.read_csv('D:/markhupkens/Dropbox/EnTransitionNL/0. Data/Motorvoertuigen_cbs_postcode.csv',error_bad_lines=False, sep=';')\n",
    "df_pc = pd.read_csv('D:/markhupkens/Dropbox/EnTransitionNL/0. Data/2017-cbs-pc6huisnr20170801_buurt/pc6hnr20170801_gwb.csv',sep=';')\n",
    "df_pc_buurt = pd.read_csv('D:/markhupkens/Dropbox/EnTransitionNL/0. Data/2017-cbs-pc6huisnr20170801_buurt/buurtnaam2017.csv',sep=';',encoding = 'unicode_escape')\n",
    "df_pc_wijk = pd.read_csv('D:/markhupkens/Dropbox/EnTransitionNL/0. Data/2017-cbs-pc6huisnr20170801_buurt/wijknaam2017.csv',sep=';',encoding = 'unicode_escape')\n",
    "df_pc_gemeente = pd.read_csv('D:/markhupkens/Dropbox/EnTransitionNL/0. Data/2017-cbs-pc6huisnr20170801_buurt/gemeentenaam2017.csv',sep=';',encoding = 'unicode_escape')"
   ]
  },
  {
   "cell_type": "markdown",
   "metadata": {},
   "source": [
    "a. Zipcode coupling dataframe (CBS)"
   ]
  },
  {
   "cell_type": "code",
   "execution_count": 123,
   "metadata": {
    "scrolled": true
   },
   "outputs": [],
   "source": [
    "df_pc = df_pc.merge(df_pc_buurt, \n",
    "                    left_on='Buurt2017', \n",
    "                    right_on='BUURT2017').merge(df_pc_wijk, \n",
    "                                                left_on='Wijk2017', \n",
    "                                                right_on='WIJK2017').merge(df_pc_gemeente, \n",
    "                                                                           left_on='Gem2017', \n",
    "                                                                           right_on='GEM2017')\n",
    "\n",
    "df_pc['PC4'] = df_pc['PC6'].str[:4]\n",
    "df_pc.drop_duplicates(subset='PC4', keep='first', inplace=True)"
   ]
  },
  {
   "cell_type": "markdown",
   "metadata": {},
   "source": [
    "b. Vehicles dataframe (CBS + Klimaatmonitor (RDW)"
   ]
  },
  {
   "cell_type": "code",
   "execution_count": 124,
   "metadata": {
    "scrolled": true
   },
   "outputs": [],
   "source": [
    "# Create merge columns\n",
    "df_fev['Postcode'] = df_fev[\"Auto's/voertuigen 2019 - Postcodes\"].str.split(\" \").str[0]\n",
    "df_voertuig['Postcode'] = df_voertuig['RegioS'].str.split(\" \").str[0]\n",
    "df_fev = df_fev.merge(df_voertuig,left_on='Postcode', right_on='Postcode', how='inner')\n",
    "\n",
    "# Add buurt,wijk and gemeente names based on pc4\n",
    "df_veh = df_fev.merge(df_pc, left_on='Postcode', right_on='PC4', how='inner')"
   ]
  },
  {
   "cell_type": "code",
   "execution_count": 176,
   "metadata": {},
   "outputs": [],
   "source": [
    "'''Group data in wijken en gemeenten (pc4)'''\n",
    "\n",
    "# Gemeenten\n",
    "df_veh_gem = df_veh.groupby('GEMNAAM').agg({\"Aantal geregistreerde elektrische personenauto's (FEV)\":'sum',\n",
    "                                                                              \"Aantal geregistreerde plug-in hybride personenauto's (PHEV)\":'sum',\n",
    "                                                                              \"Aantal geregistreerde personenauto's op aardgas (CNG)\":'sum',\n",
    "                                                                              \"Aantal geregistreerde hybride personenauto's\":'sum',\n",
    "                                                                              \"Personenauto's op waterstof (H2)\":'sum',\n",
    "                                                                             'Personenauto_2':'sum'})\n",
    "df_veh_gem['Benzine_Diesel']=df_veh_gem['Personenauto_2']-(df_veh_gem[\"Aantal geregistreerde elektrische personenauto's (FEV)\"] + \n",
    "                                                           df_veh_gem[\"Aantal geregistreerde plug-in hybride personenauto's (PHEV)\"] + \n",
    "                                                           df_veh_gem[\"Aantal geregistreerde personenauto's op aardgas (CNG)\"] + \n",
    "                                                           df_veh_gem[\"Aantal geregistreerde hybride personenauto's\"] + \n",
    "                                                           df_veh_gem[\"Personenauto's op waterstof (H2)\"])\n",
    "# Wijken\n",
    "df_veh_wijk = df_veh.groupby('WIJKNAAM').agg({\"Aantal geregistreerde elektrische personenauto's (FEV)\":'sum',\n",
    "                                                                              \"Aantal geregistreerde plug-in hybride personenauto's (PHEV)\":'sum',\n",
    "                                                                              \"Aantal geregistreerde personenauto's op aardgas (CNG)\":'sum',\n",
    "                                                                              \"Aantal geregistreerde hybride personenauto's\":'sum',\n",
    "                                                                              \"Personenauto's op waterstof (H2)\":'sum',\n",
    "                                                                             'Personenauto_2':'sum'})\n",
    "df_veh_wijk['Benzine_Diesel']=df_veh_wijk['Personenauto_2']-(df_veh_wijk[\"Aantal geregistreerde elektrische personenauto's (FEV)\"] + \n",
    "                                                           df_veh_wijk[\"Aantal geregistreerde plug-in hybride personenauto's (PHEV)\"] + \n",
    "                                                           df_veh_wijk[\"Aantal geregistreerde personenauto's op aardgas (CNG)\"] + \n",
    "                                                           df_veh_wijk[\"Aantal geregistreerde hybride personenauto's\"] + \n",
    "                                                           df_veh_wijk[\"Personenauto's op waterstof (H2)\"])"
   ]
  },
  {
   "cell_type": "markdown",
   "metadata": {},
   "source": [
    "### CONTINUE WITH OLD"
   ]
  },
  {
   "cell_type": "code",
   "execution_count": 6,
   "metadata": {
    "scrolled": false
   },
   "outputs": [
    {
     "name": "stdout",
     "output_type": "stream",
     "text": [
      "number of neighbourhoods in bag 12040\n",
      "number of neighbourhoods in klimaatmonitor 12252\n"
     ]
    }
   ],
   "source": [
    "print('number of neighbourhoods in bag', len(df['Neighbourhood Name'].unique()))\n",
    "print('number of neighbourhoods in klimaatmonitor', \n",
    "      len(df_energy_buurt.Buurt.unique()))"
   ]
  },
  {
   "cell_type": "markdown",
   "metadata": {},
   "source": [
    "## Data on buurt-level\n",
    "\n",
    "Firstly, binary columns have to be created to allow for counting in a groupby dataframe. 13 new columns are added to show housing type (c1-c6) and label (A-G)."
   ]
  },
  {
   "cell_type": "code",
   "execution_count": 7,
   "metadata": {
    "scrolled": true
   },
   "outputs": [],
   "source": [
    "''' Create housing matrix'''\n",
    "\n",
    "# Add housing matrix to enable building type count at the end of the script\n",
    "df.loc[df['Housing Type']=='C1', 'Houses Detached BAG2018d'] = 1 \n",
    "df.loc[df['Housing Type']=='C2', 'Houses 2u1Roof BAG2018d'] = 1 \n",
    "df.loc[df['Housing Type']=='C3', 'Houses Corner BAG2018d'] = 1\n",
    "df.loc[df['Housing Type']=='C4', 'Houses Row BAG2018'] = 1\n",
    "df.loc[df['Housing Type']=='C5', 'Houses SingleFloorAppartments c5 BAG2018d'] = 1\n",
    "df.loc[df['Housing Type']=='C6', 'Houses MultiFloorAppartments c6 BAG2018d'] = 1\n",
    "\n",
    "# Add preliminary evaluation\n",
    "df.loc[df['Preliminary Evaluation']=='A', 'Label A BAG2018d'] = 1 \n",
    "df.loc[df['Preliminary Evaluation']=='B', 'Label B BAG2018d'] = 1 \n",
    "df.loc[df['Preliminary Evaluation']=='C', 'Label C BAG2018d'] = 1\n",
    "df.loc[df['Preliminary Evaluation']=='D', 'Label D BAG2018d'] = 1\n",
    "df.loc[df['Preliminary Evaluation']=='E', 'Label E BAG2018d'] = 1\n",
    "df.loc[df['Preliminary Evaluation']=='F', 'Label F BAG2018d'] = 1\n",
    "df.loc[df['Preliminary Evaluation']=='G', 'Label G BAG2018d'] = 1"
   ]
  },
  {
   "cell_type": "markdown",
   "metadata": {},
   "source": [
    "### 1. Group Data"
   ]
  },
  {
   "cell_type": "code",
   "execution_count": 8,
   "metadata": {
    "scrolled": false
   },
   "outputs": [],
   "source": [
    "'''Group adressdata in neighborhoods within municipalities'''\n",
    "\n",
    "# group data\n",
    "df_bag = df.groupby(['Municipality Name',\n",
    "                     'Neighbourhood Name',\n",
    "                     'Neighbourhood Code']).agg({'House No':'count',\n",
    "                                              'Houses Detached BAG2018d':'count',\n",
    "                                               'Houses 2u1Roof BAG2018d':'count',\n",
    "                                              'Houses Corner BAG2018d':'count',\n",
    "                                              'Houses Row BAG2018':'count',\n",
    "                                              'Houses SingleFloorAppartments c5 BAG2018d':'count',\n",
    "                                              'Houses MultiFloorAppartments c6 BAG2018d':'count',\n",
    "                                              'Construction Year':'mean',\n",
    "                                               'Label A BAG2018d':'count',\n",
    "                                               'Label B BAG2018d':'count',\n",
    "                                                'Label C BAG2018d':'count',\n",
    "                                                'Label D BAG2018d':'count',\n",
    "                                                'Label E BAG2018d':'count',\n",
    "                                                'Label F BAG2018d':'count',\n",
    "                                                'Label G BAG2018d':'count'})\n",
    "\n",
    "# Rename column and duplicate index for merge later on\n",
    "df_bag.rename(columns={'House No':'Houses All BAG2018d'})\n",
    "df_bag['Neighbourhood Name_2'] = df_bag.index.get_level_values('Neighbourhood Name')\n",
    "df_bag['Municipality Name_2'] = df_bag.index.get_level_values('Municipality Name')\n",
    "df_bag['Neighbourhood Code_2'] = df_bag.index.get_level_values('Neighbourhood Code').map(str).str.split(\".\").str[0] # string values for easy merge"
   ]
  },
  {
   "cell_type": "code",
   "execution_count": 9,
   "metadata": {},
   "outputs": [],
   "source": [
    "'''Group adressdata in districts within municipalities'''\n",
    "\n",
    "# group data\n",
    "df_bag_wijk = df.groupby(['Municipality Name',\n",
    "                          'District Name',\n",
    "                          'District Code']).agg({'House No':'count',\n",
    "                                              'Houses Detached BAG2018d':'count',\n",
    "                                               'Houses 2u1Roof BAG2018d':'count',\n",
    "                                              'Houses Corner BAG2018d':'count',\n",
    "                                              'Houses Row BAG2018':'count',\n",
    "                                              'Houses SingleFloorAppartments c5 BAG2018d':'count',\n",
    "                                              'Houses MultiFloorAppartments c6 BAG2018d':'count',\n",
    "                                              'Construction Year':'mean',\n",
    "                                               'Label A BAG2018d':'count',\n",
    "                                               'Label B BAG2018d':'count',\n",
    "                                                'Label C BAG2018d':'count',\n",
    "                                                'Label D BAG2018d':'count',\n",
    "                                                'Label E BAG2018d':'count',\n",
    "                                                'Label F BAG2018d':'count',\n",
    "                                                'Label G BAG2018d':'count'})\n",
    "\n",
    "# Rename column and duplicate index for merge later on\n",
    "df_bag_wijk.rename(columns={'House No':'Houses All BAG2018d'})\n",
    "df_bag_wijk['District Name_2'] = df_bag_wijk.index.get_level_values('District Name')\n",
    "df_bag_wijk['Municipality Name_2'] = df_bag_wijk.index.get_level_values('Municipality Name')\n",
    "df_bag_wijk['District Code_2'] = df_bag_wijk.index.get_level_values('District Code').map(str).str.split(\".\").str[0] # string values for easy merge"
   ]
  },
  {
   "cell_type": "markdown",
   "metadata": {},
   "source": [
    "### 2. Merge BAG with Klimaatmonitor"
   ]
  },
  {
   "cell_type": "code",
   "execution_count": 10,
   "metadata": {
    "scrolled": false
   },
   "outputs": [],
   "source": [
    "'''Buurt: merge grouped bag data with klimaatmonitordata on buurt'''\n",
    "\n",
    "df_merged_buurt = df_bag.merge(df_energy_buurt,\n",
    "                               left_on='Neighbourhood Name_2', \n",
    "                               right_on='Buurt',how='inner') # keep intersection of keys\n",
    "\n",
    "df_merged_buurt = df_merged_buurt.groupby(['Municipality Name_2',\n",
    "                                           'Neighbourhood Name_2',\n",
    "                                           'Neighbourhood Code_2']).mean() # group by original index"
   ]
  },
  {
   "cell_type": "code",
   "execution_count": 11,
   "metadata": {
    "scrolled": false
   },
   "outputs": [],
   "source": [
    "'''Gemeente merge grouped bag data with klimaatmonitordata on Gemeente'''\n",
    "\n",
    "df_merged_gemeente = df_bag.merge(df_energy_gemeente,\n",
    "                                  left_on='Municipality Name', \n",
    "                                  right_on='Gemeente',\n",
    "                                  how='inner') # keep intersection of keys\n",
    "\n",
    "df_merged_gemeente = df_merged_gemeente.groupby(['Municipality Name_2']).mean() # group by original index"
   ]
  },
  {
   "cell_type": "code",
   "execution_count": 12,
   "metadata": {
    "scrolled": true
   },
   "outputs": [],
   "source": [
    "'''Wijk merge grouped bag data with klimaatmonitordata on wijk'''\n",
    "\n",
    "df_merged_wijk = df_bag_wijk.merge(df_energy_wijk,\n",
    "                                   left_on='District Name', \n",
    "                                   right_on='Wijk',\n",
    "                                   how='inner') # keep intersection of keys\n",
    "\n",
    "df_merged_wijk = df_merged_wijk.groupby(['Municipality Name_2',\n",
    "                                         'District Name_2',\n",
    "                                         'District Code_2']).mean() # group by original index"
   ]
  },
  {
   "cell_type": "markdown",
   "metadata": {},
   "source": [
    "### 3. Merge data with Model-setup framework\n",
    "Import modelsetup file and merge build-environment data with it on municipality name"
   ]
  },
  {
   "cell_type": "code",
   "execution_count": 13,
   "metadata": {},
   "outputs": [],
   "source": [
    "# Remove special characters from column names\n",
    "df_merged_gemeente.columns = df_merged_gemeente.columns.str.replace(\"[\",\"\").str.replace(\"]\",\"\")\n",
    "df_merged_buurt.columns = df_merged_gemeente.columns.str.replace(\"[\",\"\").str.replace(\"]\",\"\")\n",
    "df_merged_wijk.columns = df_merged_gemeente.columns.str.replace(\"[\",\"\").str.replace(\"]\",\"\")"
   ]
  },
  {
   "cell_type": "code",
   "execution_count": 14,
   "metadata": {},
   "outputs": [],
   "source": [
    "# Import model setup files\n",
    "\n",
    "df_mod_gemeente = pd.read_excel(\"D:/markhupkens/Dropbox/EnTransitionNL/0. Data/ModelSetUpEnergieNL02 (1).xlsx\",sheet_name='gemeente')\n",
    "df_mod_buurt = pd.read_excel(\"D:/markhupkens/Dropbox/EnTransitionNL/0. Data/ModelSetUpEnergieNL02 (1).xlsx\",sheet_name='buurt')\n",
    "df_mod_wijk = pd.read_excel(\"D:/markhupkens/Dropbox/EnTransitionNL/0. Data/ModelSetUpEnergieNL02 (1).xlsx\",sheet_name='wijk') # wijkdata horrible from klimaatmonitor\n",
    "df_mod_mod = pd.read_excel(\"D:/markhupkens/Dropbox/EnTransitionNL/0. Data/ModelSetUpEnergieNL02 (1).xlsx\",sheet_name='ModelSpecification')"
   ]
  },
  {
   "cell_type": "code",
   "execution_count": 15,
   "metadata": {},
   "outputs": [],
   "source": [
    "# split entity string to match building data on municipality name\n",
    "df_mod_gemeente['Municipality Name'] = df_mod_gemeente[\"Entities\"].str.split(\" G\").str[0] \n",
    "df_mod_wijk['Wijk Code'] = df_mod_wijk[\"Entities\"].str.split(\" W\").str[-1].str.strip(\"K\").str.strip(\" \").str.lstrip(\"0\") # Wijk on wijkcode, ditching leading 0's\n",
    "df_mod_buurt['Buurt Code'] = df_mod_buurt[\"Entities\"].str.split(\" B\").str[-1].str.strip(\"U\").str.strip(\" \").str.lstrip(\"0\") # Buurt on buurt code, ditching leading 0's"
   ]
  },
  {
   "cell_type": "code",
   "execution_count": 16,
   "metadata": {},
   "outputs": [],
   "source": [
    "# Check\n",
    "len_mod_gem = len(df_mod_gemeente)\n",
    "len_mod_buurt = len(df_mod_buurt)\n",
    "len_mod_wijk = len(df_mod_wijk)"
   ]
  },
  {
   "cell_type": "code",
   "execution_count": 17,
   "metadata": {},
   "outputs": [],
   "source": [
    "'''Merge prepared data with modelsetup data'''\n",
    "\n",
    "# Gemeenten\n",
    "df_mod_gemeente = df_mod_gemeente.merge(df_merged_gemeente, left_on='Municipality Name', right_on= df_merged_gemeente.index)\n",
    "df_mod_gemeente = df_mod_gemeente.drop(['Municipality Name'], axis=1)\n",
    "\n",
    "# Buurten\n",
    "df_mod_buurt = df_mod_buurt.merge(df_merged_buurt, left_on='Buurt Code', right_on= df_merged_buurt.index.get_level_values('Neighbourhood Code_2'))\n",
    "# df_mod_buurt = df_mod_buurt.drop(['Buurt Name'], axis=1)\n",
    "\n",
    "# Wijken\n",
    "df_mod_wijk = df_mod_wijk.merge(df_merged_wijk, left_on='Wijk Code', right_on=df_merged_wijk.index.get_level_values('District Code_2'))\n",
    "# df_mod_wijk = df_mod_wijk.drop(['District Name_2'], axis=1)"
   ]
  },
  {
   "cell_type": "code",
   "execution_count": 15,
   "metadata": {},
   "outputs": [
    {
     "name": "stdout",
     "output_type": "stream",
     "text": [
      "-40 Municipalities gained\n",
      "-732 Buurten gained\n",
      "-223 wijken gained\n"
     ]
    }
   ],
   "source": [
    "print(len(df_mod_gemeente) - len(mod_gem),\"Municipalities gained\")\n",
    "print(len(df_mod_buurt)- len(mod_buurt),\"Buurten gained\")\n",
    "print(len(df_mod_wijk)- len(mod_wijk),\"wijken gained\")"
   ]
  },
  {
   "cell_type": "code",
   "execution_count": 16,
   "metadata": {},
   "outputs": [
    {
     "name": "stdout",
     "output_type": "stream",
     "text": [
      "340\n",
      "12573\n",
      "2863\n"
     ]
    }
   ],
   "source": [
    "print(len(df_mod_gemeente)) \n",
    "print(len(df_mod_buurt))\n",
    "print(len(df_mod_wijk))"
   ]
  },
  {
   "cell_type": "markdown",
   "metadata": {},
   "source": [
    "### 4. Export new modelspecification file"
   ]
  },
  {
   "cell_type": "code",
   "execution_count": 17,
   "metadata": {
    "collapsed": true
   },
   "outputs": [],
   "source": [
    "# export as xlsx to genereate new modelspecification file\n",
    "from pandas import ExcelWriter\n",
    "\n",
    "with pd.ExcelWriter('D:/markhupkens/Dropbox/EnTransitionNL/0. Data/ModelSetUpEnergyNL01_MH.xlsx') as writer:  # doctest: +SKIP\n",
    "    df_mod_buurt.to_excel(writer, sheet_name='buurt')\n",
    "    df_mod_wijk.to_excel(writer, sheet_name='wijk')\n",
    "    df_mod_gemeente.to_excel(writer, sheet_name='gemeente')\n",
    "    df_mod_mod.to_excel(writer, sheet_name='ModelSpecification')"
   ]
  }
 ],
 "metadata": {
  "kernelspec": {
   "display_name": "Python 3",
   "language": "python",
   "name": "python3"
  },
  "language_info": {
   "codemirror_mode": {
    "name": "ipython",
    "version": 3
   },
   "file_extension": ".py",
   "mimetype": "text/x-python",
   "name": "python",
   "nbconvert_exporter": "python",
   "pygments_lexer": "ipython3",
   "version": "3.7.3"
  }
 },
 "nbformat": 4,
 "nbformat_minor": 2
}
